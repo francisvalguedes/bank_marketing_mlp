{
 "cells": [
  {
   "cell_type": "markdown",
   "metadata": {
    "id": "iPO9FGmIY1fu",
    "tags": []
   },
   "source": [
    "# Bank Marketing Data - A Multilayer Perceptron (MLP) Approach"
   ]
  },
  {
   "cell_type": "markdown",
   "metadata": {
    "id": "XyZ1aaT1Y1fu"
   },
   "source": [
    "The data is related with direct marketing campaigns of a Portuguese banking institution. The marketing campaigns were based on phone calls. Often, more than one contact to the same client was required, in order to access if the product (bank term deposit) would be ('yes') or not ('no') subscribed.\n",
    "\n",
    "You can download the data from the [University of California, Irvine's website](http://archive.ics.uci.edu/ml/datasets/Bank+Marketing).\n",
    "\n",
    "The classification goal is to predict if the client will subscribe (yes/no) a term deposit (variable y)."
   ]
  },
  {
   "cell_type": "markdown",
   "metadata": {
    "id": "ynVtL5qq_fu2"
   },
   "source": [
    "### Install and Load Libraries"
   ]
  },
  {
   "cell_type": "code",
   "execution_count": 1,
   "metadata": {
    "colab": {
     "base_uri": "https://localhost:8080/"
    },
    "executionInfo": {
     "elapsed": 4332,
     "status": "ok",
     "timestamp": 1657736318661,
     "user": {
      "displayName": "Francisval Guedes",
      "userId": "04914963643323114232"
     },
     "user_tz": 180
    },
    "id": "kqnI_Myi_YaZ",
    "outputId": "28ee7676-d5ea-47e3-9f41-0d178e036296"
   },
   "outputs": [],
   "source": [
    "#!pip install wandb"
   ]
  },
  {
   "cell_type": "code",
   "execution_count": 2,
   "metadata": {
    "executionInfo": {
     "elapsed": 444,
     "status": "ok",
     "timestamp": 1657739897817,
     "user": {
      "displayName": "Francisval Guedes",
      "userId": "04914963643323114232"
     },
     "user_tz": 180
    },
    "id": "EIEZpNrY_YaZ"
   },
   "outputs": [],
   "source": [
    "import logging\n",
    "import wandb\n",
    "import pandas as pd\n",
    "import numpy as np\n",
    "import joblib\n",
    "import matplotlib.pyplot as plt\n",
    "from sklearn.model_selection import train_test_split\n",
    "from sklearn.neighbors import LocalOutlierFactor\n",
    "from sklearn.preprocessing import LabelEncoder\n",
    "from sklearn.preprocessing import OneHotEncoder\n",
    "from sklearn.base import BaseEstimator, TransformerMixin\n",
    "from sklearn.preprocessing import MinMaxScaler\n",
    "from sklearn.preprocessing import StandardScaler\n",
    "from sklearn.preprocessing import OneHotEncoder\n",
    "from sklearn.pipeline import Pipeline, FeatureUnion\n",
    "from sklearn.tree import DecisionTreeClassifier\n",
    "from sklearn.impute import SimpleImputer\n",
    "from sklearn.metrics import fbeta_score, precision_score, recall_score, accuracy_score\n",
    "from sklearn.metrics import classification_report\n",
    "from sklearn.metrics import confusion_matrix\n",
    "from sklearn.metrics import ConfusionMatrixDisplay\n",
    "from imblearn.metrics import geometric_mean_score\n",
    "\n",
    "from imblearn.over_sampling import SMOTENC\n",
    "from imblearn.under_sampling import RandomUnderSampler\n",
    "\n",
    "import os\n",
    "# os.environ[\"CUDA_VISIBLE_DEVICES\"]=\"-1\"\n",
    "\n",
    "from tensorflow.keras.layers import Dense\n",
    "from tensorflow.keras.models import Sequential\n",
    "\n",
    "from keras import callbacks\n",
    "from keras.wrappers.scikit_learn import KerasClassifier\n",
    "\n",
    "# from sklearn.model_selection import StratifiedKFold\n",
    "# from sklearn.model_selection import cross_val_score\n",
    "# imblearn"
   ]
  },
  {
   "cell_type": "code",
   "execution_count": 3,
   "metadata": {
    "colab": {
     "base_uri": "https://localhost:8080/"
    },
    "executionInfo": {
     "elapsed": 6941,
     "status": "ok",
     "timestamp": 1657736328245,
     "user": {
      "displayName": "Francisval Guedes",
      "userId": "04914963643323114232"
     },
     "user_tz": 180
    },
    "id": "u_0XbKhA_Yaa",
    "outputId": "0069a86b-140d-4535-96f9-995a34451228"
   },
   "outputs": [],
   "source": [
    "# Login to Weights & Biases\n",
    "#!wandb login --relogin"
   ]
  },
  {
   "cell_type": "code",
   "execution_count": 4,
   "metadata": {
    "colab": {
     "base_uri": "https://localhost:8080/"
    },
    "executionInfo": {
     "elapsed": 5830,
     "status": "ok",
     "timestamp": 1657732509638,
     "user": {
      "displayName": "Francisval Guedes",
      "userId": "04914963643323114232"
     },
     "user_tz": 180
    },
    "id": "l6qkmG91jDJP",
    "outputId": "8861bf39-e09b-49e7-d44b-140166e41d7a"
   },
   "outputs": [],
   "source": [
    "#!python -c 'import keras; print(keras.__version__)'"
   ]
  },
  {
   "cell_type": "markdown",
   "metadata": {
    "id": "0I4pgzLVtBTP"
   },
   "source": [
    "# 1.0 Training\n",
    "\n"
   ]
  },
  {
   "cell_type": "markdown",
   "metadata": {
    "id": "BeMVUzr08AK8"
   },
   "source": [
    "## 1.0.2 Holdout Configuration"
   ]
  },
  {
   "cell_type": "code",
   "execution_count": 5,
   "metadata": {
    "executionInfo": {
     "elapsed": 621,
     "status": "ok",
     "timestamp": 1657736365640,
     "user": {
      "displayName": "Francisval Guedes",
      "userId": "04914963643323114232"
     },
     "user_tz": 180
    },
    "id": "sZzaS0x8ZYUB",
    "jupyter": {
     "source_hidden": true
    },
    "tags": []
   },
   "outputs": [],
   "source": [
    "# global variables\n",
    "\n",
    "# ratio used to split train and validation data\n",
    "val_size = 0.20\n",
    "# seed used to reproduce purposes\n",
    "seed = 41\n",
    "# reference (column) to stratify the data\n",
    "stratify = \"y\"\n",
    "# name of the input artifact\n",
    "artifact_input_name = \"mlops_ivan/bank_mlp/train.csv:latest\"\n",
    "# type of the artifact\n",
    "artifact_type = \"Train\""
   ]
  },
  {
   "cell_type": "code",
   "execution_count": 6,
   "metadata": {
    "colab": {
     "base_uri": "https://localhost:8080/",
     "height": 0
    },
    "executionInfo": {
     "elapsed": 7814,
     "status": "ok",
     "timestamp": 1657736376073,
     "user": {
      "displayName": "Francisval Guedes",
      "userId": "04914963643323114232"
     },
     "user_tz": 180
    },
    "id": "VILw-BwKY2Wn",
    "outputId": "9dc8ca0a-dbf0-4d5a-cfed-938b40fb6fd6"
   },
   "outputs": [
    {
     "name": "stderr",
     "output_type": "stream",
     "text": [
      "\u001b[34m\u001b[1mwandb\u001b[0m: Currently logged in as: \u001b[33mfrancisvalfgs\u001b[0m (use `wandb login --relogin` to force relogin)\n"
     ]
    },
    {
     "data": {
      "text/html": [
       "wandb version 0.12.21 is available!  To upgrade, please run:\n",
       " $ pip install wandb --upgrade"
      ],
      "text/plain": [
       "<IPython.core.display.HTML object>"
      ]
     },
     "metadata": {},
     "output_type": "display_data"
    },
    {
     "data": {
      "text/html": [
       "Tracking run with wandb version 0.12.14"
      ],
      "text/plain": [
       "<IPython.core.display.HTML object>"
      ]
     },
     "metadata": {},
     "output_type": "display_data"
    },
    {
     "data": {
      "text/html": [
       "Run data is saved locally in <code>C:\\Users\\franc\\Meu Drive\\Machine Learning\\Repositorios\\bank_marketing_mlp\\model\\wandb\\run-20220714_110325-2z02fhp0</code>"
      ],
      "text/plain": [
       "<IPython.core.display.HTML object>"
      ]
     },
     "metadata": {},
     "output_type": "display_data"
    },
    {
     "data": {
      "text/html": [
       "Syncing run <strong><a href=\"https://wandb.ai/mlops_ivan/bank_mlp/runs/2z02fhp0\" target=\"_blank\">zesty-firefly-38</a></strong> to <a href=\"https://wandb.ai/mlops_ivan/bank_mlp\" target=\"_blank\">Weights & Biases</a> (<a href=\"https://wandb.me/run\" target=\"_blank\">docs</a>)<br/>"
      ],
      "text/plain": [
       "<IPython.core.display.HTML object>"
      ]
     },
     "metadata": {},
     "output_type": "display_data"
    },
    {
     "name": "stderr",
     "output_type": "stream",
     "text": [
      "14-07-2022 11:03:32 Downloading and reading train artifact\n",
      "14-07-2022 11:03:36 Spliting data into train/val\n"
     ]
    }
   ],
   "source": [
    "# configure logging\n",
    "logging.basicConfig(level=logging.INFO,\n",
    "                    format=\"%(asctime)s %(message)s\",\n",
    "                    datefmt='%d-%m-%Y %H:%M:%S')\n",
    "\n",
    "# reference for a logging obj\n",
    "logger = logging.getLogger()\n",
    "\n",
    "# initiate the wandb project\n",
    "run = wandb.init(project=\"bank_mlp\", entity=\"mlops_ivan\", job_type=\"train\")\n",
    "\n",
    "logger.info(\"Downloading and reading train artifact\")\n",
    "local_path = run.use_artifact(artifact_input_name).file()\n",
    "df_train = pd.read_csv(local_path)\n",
    "\n",
    "# Spliting train.csv into train and validation dataset\n",
    "logger.info(\"Spliting data into train/val\")\n",
    "# split-out train/validation and test dataset\n",
    "x_train, x_val, y_train, y_val0 = train_test_split(df_train.drop(labels=stratify,axis=1),\n",
    "                                                  df_train[stratify],\n",
    "                                                  test_size=val_size,\n",
    "                                                  random_state=seed,\n",
    "                                                  shuffle=True,\n",
    "                                                  stratify=df_train[stratify])"
   ]
  },
  {
   "cell_type": "code",
   "execution_count": 7,
   "metadata": {
    "colab": {
     "base_uri": "https://localhost:8080/"
    },
    "executionInfo": {
     "elapsed": 11,
     "status": "ok",
     "timestamp": 1657736376073,
     "user": {
      "displayName": "Francisval Guedes",
      "userId": "04914963643323114232"
     },
     "user_tz": 180
    },
    "id": "VOFF72bq9QoB",
    "outputId": "f60d0be4-dd95-4a43-c9bc-f2d7ef4ae4ea"
   },
   "outputs": [
    {
     "name": "stderr",
     "output_type": "stream",
     "text": [
      "14-07-2022 11:03:36 x train: (25317, 16)\n",
      "14-07-2022 11:03:36 y train: (25317,)\n",
      "14-07-2022 11:03:36 x val: (6330, 16)\n",
      "14-07-2022 11:03:36 y val: (6330,)\n"
     ]
    }
   ],
   "source": [
    "logger.info(\"x train: {}\".format(x_train.shape))\n",
    "logger.info(\"y train: {}\".format(y_train.shape))\n",
    "logger.info(\"x val: {}\".format(x_val.shape))\n",
    "logger.info(\"y val: {}\".format(y_val0.shape))"
   ]
  },
  {
   "cell_type": "markdown",
   "metadata": {
    "id": "PcqOxTYQ4z3D"
   },
   "source": [
    "## 1.1 Data preparation"
   ]
  },
  {
   "cell_type": "markdown",
   "metadata": {
    "id": "tt9AnGT3922Q"
   },
   "source": [
    "### 1.1.1 Outlier Removal"
   ]
  },
  {
   "cell_type": "code",
   "execution_count": 8,
   "metadata": {
    "colab": {
     "base_uri": "https://localhost:8080/"
    },
    "executionInfo": {
     "elapsed": 10,
     "status": "ok",
     "timestamp": 1657736376073,
     "user": {
      "displayName": "Francisval Guedes",
      "userId": "04914963643323114232"
     },
     "user_tz": 180
    },
    "id": "KRvgo0Ol9sPL",
    "outputId": "e4f572b3-441e-4abc-8efb-19a5baab4158"
   },
   "outputs": [
    {
     "name": "stderr",
     "output_type": "stream",
     "text": [
      "14-07-2022 11:03:36 Outlier Removal\n"
     ]
    }
   ],
   "source": [
    "logger.info(\"Outlier Removal\")\n",
    "# temporary variable\n",
    "x = x_train.select_dtypes(\"int64\").copy()\n",
    "\n",
    "# identify outlier in the dataset\n",
    "lof = LocalOutlierFactor()\n",
    "outlier = lof.fit_predict(x)\n",
    "mask = outlier != -1"
   ]
  },
  {
   "cell_type": "code",
   "execution_count": 9,
   "metadata": {
    "colab": {
     "base_uri": "https://localhost:8080/"
    },
    "executionInfo": {
     "elapsed": 9,
     "status": "ok",
     "timestamp": 1657736376073,
     "user": {
      "displayName": "Francisval Guedes",
      "userId": "04914963643323114232"
     },
     "user_tz": 180
    },
    "id": "A2Y4UgfA9-kn",
    "outputId": "2d3c4852-4e93-4449-8ad6-5ae0f54c1315"
   },
   "outputs": [
    {
     "name": "stderr",
     "output_type": "stream",
     "text": [
      "14-07-2022 11:03:36 x_train shape [original]: (25317, 16)\n",
      "14-07-2022 11:03:36 x_train shape [outlier removal]: (24746, 16)\n"
     ]
    }
   ],
   "source": [
    "logger.info(\"x_train shape [original]: {}\".format(x_train.shape))\n",
    "logger.info(\"x_train shape [outlier removal]: {}\".format(x_train.loc[mask,:].shape))"
   ]
  },
  {
   "cell_type": "code",
   "execution_count": 10,
   "metadata": {
    "executionInfo": {
     "elapsed": 9,
     "status": "ok",
     "timestamp": 1657736376073,
     "user": {
      "displayName": "Francisval Guedes",
      "userId": "04914963643323114232"
     },
     "user_tz": 180
    },
    "id": "TD1yG61E9_xK"
   },
   "outputs": [],
   "source": [
    "# AVOID data leakage and you should not do this procedure in the preprocessing stage\n",
    "# Note that we did not perform this procedure in the validation set\n",
    "x_train = x_train.loc[mask,:].copy()\n",
    "y_train = y_train[mask].copy()"
   ]
  },
  {
   "cell_type": "markdown",
   "metadata": {
    "id": "0OKwPRO6aM6r"
   },
   "source": [
    "### 1.1.2 Imbalanced Classification"
   ]
  },
  {
   "cell_type": "markdown",
   "metadata": {
    "id": "AIFp3NJiNjEP"
   },
   "source": [
    "Reference:\n",
    "https://machinelearningmastery.com/smote-oversampling-for-imbalanced-classification/"
   ]
  },
  {
   "cell_type": "code",
   "execution_count": 11,
   "metadata": {
    "colab": {
     "base_uri": "https://localhost:8080/"
    },
    "executionInfo": {
     "elapsed": 9,
     "status": "ok",
     "timestamp": 1657736376073,
     "user": {
      "displayName": "Francisval Guedes",
      "userId": "04914963643323114232"
     },
     "user_tz": 180
    },
    "id": "rCQd2uHLZuGh",
    "outputId": "d5aee09b-ef15-4645-e896-241eef27b114"
   },
   "outputs": [
    {
     "data": {
      "text/plain": [
       "no     21970\n",
       "yes     2776\n",
       "Name: y, dtype: int64"
      ]
     },
     "execution_count": 11,
     "metadata": {},
     "output_type": "execute_result"
    }
   ],
   "source": [
    "df = pd.concat([x_train, y_train], axis=1)\n",
    "df.y.value_counts()"
   ]
  },
  {
   "cell_type": "code",
   "execution_count": 12,
   "metadata": {
    "executionInfo": {
     "elapsed": 9,
     "status": "ok",
     "timestamp": 1657736376074,
     "user": {
      "displayName": "Francisval Guedes",
      "userId": "04914963643323114232"
     },
     "user_tz": 180
    },
    "id": "zgapadnbaR0t"
   },
   "outputs": [],
   "source": [
    "def resaple_bal(x_train, y_train):\n",
    "  # random_state=0 , (sampling_strategy=\"auto\")\n",
    "  oversample = SMOTENC(categorical_features=[1, 2, 3, 4, 6, 7, 8, 10, 15],  sampling_strategy = 0.5)\n",
    "  undersample = RandomUnderSampler(sampling_strategy=\"auto\")\n",
    "  X, y = oversample.fit_resample(x_train, y_train)\n",
    "  X, y = undersample.fit_resample(X, y)\n",
    "  return X, y\n"
   ]
  },
  {
   "cell_type": "code",
   "execution_count": 13,
   "metadata": {
    "executionInfo": {
     "elapsed": 9,
     "status": "ok",
     "timestamp": 1657736376074,
     "user": {
      "displayName": "Francisval Guedes",
      "userId": "04914963643323114232"
     },
     "user_tz": 180
    },
    "id": "bXEZckJgefTq"
   },
   "outputs": [],
   "source": [
    "x_train_bal, y_train_bal = resaple_bal( x_train, y_train)"
   ]
  },
  {
   "cell_type": "code",
   "execution_count": 14,
   "metadata": {
    "colab": {
     "base_uri": "https://localhost:8080/"
    },
    "executionInfo": {
     "elapsed": 9,
     "status": "ok",
     "timestamp": 1657736376074,
     "user": {
      "displayName": "Francisval Guedes",
      "userId": "04914963643323114232"
     },
     "user_tz": 180
    },
    "id": "MUN_0JskHi3I",
    "outputId": "f2c90268-ac2b-4961-c43f-872dde28bbcb"
   },
   "outputs": [
    {
     "data": {
      "text/plain": [
       "(21970, 17)"
      ]
     },
     "execution_count": 14,
     "metadata": {},
     "output_type": "execute_result"
    }
   ],
   "source": [
    "df_bal = pd.concat([x_train_bal, y_train_bal], axis=1)\n",
    "df_bal.shape"
   ]
  },
  {
   "cell_type": "code",
   "execution_count": 15,
   "metadata": {
    "colab": {
     "base_uri": "https://localhost:8080/"
    },
    "executionInfo": {
     "elapsed": 9,
     "status": "ok",
     "timestamp": 1657736376074,
     "user": {
      "displayName": "Francisval Guedes",
      "userId": "04914963643323114232"
     },
     "user_tz": 180
    },
    "id": "toPJquDBH0fD",
    "outputId": "0e5f594c-f721-45ed-d732-d5b065e42584"
   },
   "outputs": [
    {
     "data": {
      "text/plain": [
       "no     10985\n",
       "yes    10985\n",
       "Name: y, dtype: int64"
      ]
     },
     "execution_count": 15,
     "metadata": {},
     "output_type": "execute_result"
    }
   ],
   "source": [
    "df_bal.y.value_counts()"
   ]
  },
  {
   "cell_type": "markdown",
   "metadata": {
    "id": "EEKvM3qL_3Hb"
   },
   "source": [
    "### 1.1.3 Encoding Target Variable"
   ]
  },
  {
   "cell_type": "code",
   "execution_count": 16,
   "metadata": {
    "colab": {
     "base_uri": "https://localhost:8080/"
    },
    "executionInfo": {
     "elapsed": 8,
     "status": "ok",
     "timestamp": 1657736376074,
     "user": {
      "displayName": "Francisval Guedes",
      "userId": "04914963643323114232"
     },
     "user_tz": 180
    },
    "id": "hGToiv4198vq",
    "outputId": "cda117ce-5350-4104-fde6-8d72a67d0d59"
   },
   "outputs": [
    {
     "name": "stderr",
     "output_type": "stream",
     "text": [
      "14-07-2022 11:03:38 Encoding Target Variable\n",
      "14-07-2022 11:03:38 Classes [0, 1]: ['no' 'yes']\n"
     ]
    }
   ],
   "source": [
    "logger.info(\"Encoding Target Variable\")\n",
    "# define a categorical encoding for target variable\n",
    "le = LabelEncoder()\n",
    "\n",
    "# fit and transform y_train_bal\n",
    "y_train_bal = le.fit_transform(y_train_bal)\n",
    "\n",
    "# transform y_test (avoiding data leakage)\n",
    "y_val = le.transform(y_val0)\n",
    "\n",
    "logger.info(\"Classes [0, 1]: {}\".format(le.inverse_transform([0, 1])))"
   ]
  },
  {
   "cell_type": "markdown",
   "metadata": {
    "id": "7qcpCDX0gce4"
   },
   "source": [
    "## 1.2 Using a full-pipeline"
   ]
  },
  {
   "cell_type": "markdown",
   "metadata": {
    "id": "gF_ZLoVjjPUg"
   },
   "source": [
    "#### 1.2.1 Feature Extractor"
   ]
  },
  {
   "cell_type": "code",
   "execution_count": 17,
   "metadata": {
    "executionInfo": {
     "elapsed": 8,
     "status": "ok",
     "timestamp": 1657736376074,
     "user": {
      "displayName": "Francisval Guedes",
      "userId": "04914963643323114232"
     },
     "user_tz": 180
    },
    "id": "BWXf3a3ZCHoW"
   },
   "outputs": [],
   "source": [
    "def copy_exception(feature_names, exceptions):\n",
    "  # this functios return the itens in the feature_names except exceptions\n",
    "  # if exceptions do not exist in feature_names it returns all feature_names\n",
    "  # Imput: feature_names, exceptions: list\n",
    "  # Output: list\n",
    "  for exception in exceptions:\n",
    "    try:\n",
    "      feature_names.remove(exception)\n",
    "    except ValueError:\n",
    "      pass\n",
    "    features_selected = feature_names\n",
    "  return features_selected"
   ]
  },
  {
   "cell_type": "code",
   "execution_count": 18,
   "metadata": {
    "colab": {
     "base_uri": "https://localhost:8080/"
    },
    "executionInfo": {
     "elapsed": 8,
     "status": "ok",
     "timestamp": 1657736376074,
     "user": {
      "displayName": "Francisval Guedes",
      "userId": "04914963643323114232"
     },
     "user_tz": 180
    },
    "id": "tuZ-0WEoCWtr",
    "outputId": "a9d325ab-882e-486a-92c1-e282b7c3ee06"
   },
   "outputs": [
    {
     "name": "stdout",
     "output_type": "stream",
     "text": [
      "['job', 'marital', 'education', 'default', 'housing', 'loan', 'month', 'poutcome']\n"
     ]
    }
   ],
   "source": [
    "f_sel = copy_exception(x_train_bal.select_dtypes(\"object\").columns.to_list(), [\"contact\", \"day\"])\n",
    "print(f_sel)"
   ]
  },
  {
   "cell_type": "code",
   "execution_count": 19,
   "metadata": {
    "executionInfo": {
     "elapsed": 8,
     "status": "ok",
     "timestamp": 1657736376075,
     "user": {
      "displayName": "Francisval Guedes",
      "userId": "04914963643323114232"
     },
     "user_tz": 180
    },
    "id": "yprb5F2ypt-d"
   },
   "outputs": [],
   "source": [
    "class FeatureSelector(BaseEstimator, TransformerMixin):\n",
    "    # Class Constructor\n",
    "    def __init__(self, feature_names):\n",
    "      #exceptions = [\"contact\", \"day\", 'default', 'loan', 'marital']\n",
    "      exceptions = ['default', 'loan']\n",
    "      self.feature_names = copy_exception(feature_names, exceptions) \n",
    "      #self.feature_names = feature_names\n",
    "\n",
    "\n",
    "    # Return self nothing else to do here\n",
    "    def fit(self, X, y=None):\n",
    "        return self\n",
    "\n",
    "    # Method that describes what this custom transformer need to do\n",
    "    def transform(self, X, y=None):\n",
    "        return X[self.feature_names]\n",
    "\n",
    "# Handling categorical features\n",
    "class CategoricalTransformer(BaseEstimator, TransformerMixin):\n",
    "    # Class constructor method that takes one boolean as its argument\n",
    "    def __init__(self, new_features=True, colnames=None):\n",
    "        self.new_features = new_features\n",
    "        self.colnames = colnames\n",
    "\n",
    "    # Return self nothing else to do here\n",
    "    def fit(self, X, y=None):\n",
    "        return self\n",
    "\n",
    "    def get_feature_names_out(self):\n",
    "        return self.colnames.tolist()\n",
    "\n",
    "    # Transformer method we wrote for this transformer\n",
    "    def transform(self, X, y=None):\n",
    "        df = pd.DataFrame(X, columns=self.colnames)\n",
    "\n",
    "        # Remove white space in categorical features\n",
    "        df = df.apply(lambda row: row.str.strip())\n",
    "\n",
    "        # customize feature?\n",
    "        # How can I identify what needs to be modified? EDA!!!!\n",
    "        if self.new_features:\n",
    "            # df['job'] = df['job']\n",
    "            # Combine similar jobs into categiroes\n",
    "            df['job'] = df['job'].replace(['management', 'admin.'], 'white-collar')\n",
    "            df['job'] = df['job'].replace(['services','housemaid'], 'pink-collar')\n",
    "            df['job'] = df['job'].replace(['retired', 'student', 'unemployed', 'unknown'], 'other')\n",
    "\n",
    "            # minimize the cardinality poutcome\n",
    "            df['poutcome'] = df['poutcome'].replace(['other'] , 'unknown')\n",
    "\n",
    "            # Drop 'contact', as every participant has been contacted. \n",
    "            # df.drop('contact', axis=1, inplace=True)\n",
    "\n",
    "            # day  : last contact day of the month\n",
    "            # month: last contact month of year\n",
    "            # Drop 'month' as they don't have any intrinsic meaning\n",
    "            # df.drop('month', axis=1, inplace=True)\n",
    "            df['month'] = df['month'].replace(['feb', 'mar', 'jan'], '1st')\n",
    "            df['month'] = df['month'].replace(['may', 'jun', 'apr'], '2st')\n",
    "            df['month'] = df['month'].replace(['jul', 'aug', 'sep'], '3st')\n",
    "            df['month'] = df['month'].replace(['nov', 'oct', 'dec'], '4st')         \n",
    "\n",
    "        # update column names\n",
    "        self.colnames = df.columns\n",
    "\n",
    "        return df\n",
    "        \n",
    "# transform numerical features\n",
    "class NumericalTransformer(BaseEstimator, TransformerMixin):\n",
    "    # Class constructor method that takes a model parameter as its argument\n",
    "    # model 0: minmax\n",
    "    # model 1: standard\n",
    "    # model 2: without scaler\n",
    "    def __init__(self, model=0, colnames=None):\n",
    "        self.model = model\n",
    "        self.colnames = colnames\n",
    "        self.scaler = None\n",
    "\n",
    "    # Fit is used only to learn statistical about Scalers\n",
    "    def fit(self, X, y=None):\n",
    "        df = pd.DataFrame(X, columns=self.colnames)\n",
    "        # minmax\n",
    "        if self.model == 0:\n",
    "            self.scaler = MinMaxScaler()\n",
    "            self.scaler.fit(df)\n",
    "        # standard scaler\n",
    "        elif self.model == 1:\n",
    "            self.scaler = StandardScaler()\n",
    "            self.scaler.fit(df)\n",
    "        return self\n",
    "\n",
    "    # return columns names after transformation\n",
    "    def get_feature_names_out(self):\n",
    "        return self.colnames\n",
    "\n",
    "    # Transformer method we wrote for this transformer\n",
    "    # Use fitted scalers\n",
    "    def transform(self, X, y=None):\n",
    "        df = pd.DataFrame(X, columns=self.colnames)\n",
    "\n",
    "        # day  : last contact day of the month                  # adicionado\n",
    "        # Drop 'day' as they don't have any intrinsic meaning\n",
    "        # df.drop('day', axis=1, inplace=True)\n",
    "\n",
    "        # Map padys=-1 into a large value (10000 is used) to indicate that it is so far in the past that it has no effect\n",
    "        df.loc[df['pdays'] == -1, 'pdays'] = 10000\n",
    "\n",
    "        # update columns name\n",
    "        self.colnames = df.columns.tolist()\n",
    "\n",
    "        # minmax\n",
    "        if self.model == 0:\n",
    "            # transform data\n",
    "            df = self.scaler.transform(df)\n",
    "        elif self.model == 1:\n",
    "            # transform data\n",
    "            df = self.scaler.transform(df)\n",
    "        else:\n",
    "            df = df.values\n",
    "\n",
    "        return df"
   ]
  },
  {
   "cell_type": "code",
   "execution_count": 20,
   "metadata": {
    "colab": {
     "base_uri": "https://localhost:8080/",
     "height": 206
    },
    "executionInfo": {
     "elapsed": 8,
     "status": "ok",
     "timestamp": 1657736376075,
     "user": {
      "displayName": "Francisval Guedes",
      "userId": "04914963643323114232"
     },
     "user_tz": 180
    },
    "id": "DEa9qLnVirdY",
    "outputId": "db273270-e29b-4566-e60a-5c2b50df821f"
   },
   "outputs": [
    {
     "data": {
      "text/html": [
       "<div>\n",
       "<style scoped>\n",
       "    .dataframe tbody tr th:only-of-type {\n",
       "        vertical-align: middle;\n",
       "    }\n",
       "\n",
       "    .dataframe tbody tr th {\n",
       "        vertical-align: top;\n",
       "    }\n",
       "\n",
       "    .dataframe thead th {\n",
       "        text-align: right;\n",
       "    }\n",
       "</style>\n",
       "<table border=\"1\" class=\"dataframe\">\n",
       "  <thead>\n",
       "    <tr style=\"text-align: right;\">\n",
       "      <th></th>\n",
       "      <th>job</th>\n",
       "      <th>marital</th>\n",
       "      <th>education</th>\n",
       "      <th>housing</th>\n",
       "      <th>contact</th>\n",
       "      <th>month</th>\n",
       "      <th>poutcome</th>\n",
       "    </tr>\n",
       "  </thead>\n",
       "  <tbody>\n",
       "    <tr>\n",
       "      <th>0</th>\n",
       "      <td>management</td>\n",
       "      <td>married</td>\n",
       "      <td>unknown</td>\n",
       "      <td>no</td>\n",
       "      <td>unknown</td>\n",
       "      <td>jun</td>\n",
       "      <td>unknown</td>\n",
       "    </tr>\n",
       "    <tr>\n",
       "      <th>1</th>\n",
       "      <td>self-employed</td>\n",
       "      <td>divorced</td>\n",
       "      <td>secondary</td>\n",
       "      <td>yes</td>\n",
       "      <td>cellular</td>\n",
       "      <td>feb</td>\n",
       "      <td>unknown</td>\n",
       "    </tr>\n",
       "    <tr>\n",
       "      <th>2</th>\n",
       "      <td>services</td>\n",
       "      <td>single</td>\n",
       "      <td>secondary</td>\n",
       "      <td>yes</td>\n",
       "      <td>cellular</td>\n",
       "      <td>jul</td>\n",
       "      <td>unknown</td>\n",
       "    </tr>\n",
       "    <tr>\n",
       "      <th>3</th>\n",
       "      <td>technician</td>\n",
       "      <td>married</td>\n",
       "      <td>secondary</td>\n",
       "      <td>yes</td>\n",
       "      <td>cellular</td>\n",
       "      <td>aug</td>\n",
       "      <td>unknown</td>\n",
       "    </tr>\n",
       "    <tr>\n",
       "      <th>4</th>\n",
       "      <td>services</td>\n",
       "      <td>single</td>\n",
       "      <td>secondary</td>\n",
       "      <td>no</td>\n",
       "      <td>unknown</td>\n",
       "      <td>jun</td>\n",
       "      <td>unknown</td>\n",
       "    </tr>\n",
       "  </tbody>\n",
       "</table>\n",
       "</div>"
      ],
      "text/plain": [
       "             job   marital  education housing   contact month poutcome\n",
       "0     management   married    unknown      no   unknown   jun  unknown\n",
       "1  self-employed  divorced  secondary     yes  cellular   feb  unknown\n",
       "2       services    single  secondary     yes  cellular   jul  unknown\n",
       "3     technician   married  secondary     yes  cellular   aug  unknown\n",
       "4       services    single  secondary      no   unknown   jun  unknown"
      ]
     },
     "execution_count": 20,
     "metadata": {},
     "output_type": "execute_result"
    }
   ],
   "source": [
    "# for validation purposes\n",
    "fs = FeatureSelector(x_train_bal.select_dtypes(\"object\").columns.to_list())\n",
    "df = fs.fit_transform(x_train_bal)\n",
    "df.head()"
   ]
  },
  {
   "cell_type": "code",
   "execution_count": 21,
   "metadata": {
    "colab": {
     "base_uri": "https://localhost:8080/",
     "height": 206
    },
    "executionInfo": {
     "elapsed": 8,
     "status": "ok",
     "timestamp": 1657736376075,
     "user": {
      "displayName": "Francisval Guedes",
      "userId": "04914963643323114232"
     },
     "user_tz": 180
    },
    "id": "9GQeBeNNjB8b",
    "outputId": "ed7582f9-0598-45b5-ebc9-587a1d185211"
   },
   "outputs": [
    {
     "data": {
      "text/html": [
       "<div>\n",
       "<style scoped>\n",
       "    .dataframe tbody tr th:only-of-type {\n",
       "        vertical-align: middle;\n",
       "    }\n",
       "\n",
       "    .dataframe tbody tr th {\n",
       "        vertical-align: top;\n",
       "    }\n",
       "\n",
       "    .dataframe thead th {\n",
       "        text-align: right;\n",
       "    }\n",
       "</style>\n",
       "<table border=\"1\" class=\"dataframe\">\n",
       "  <thead>\n",
       "    <tr style=\"text-align: right;\">\n",
       "      <th></th>\n",
       "      <th>age</th>\n",
       "      <th>balance</th>\n",
       "      <th>day</th>\n",
       "      <th>duration</th>\n",
       "      <th>campaign</th>\n",
       "      <th>pdays</th>\n",
       "      <th>previous</th>\n",
       "    </tr>\n",
       "  </thead>\n",
       "  <tbody>\n",
       "    <tr>\n",
       "      <th>0</th>\n",
       "      <td>44</td>\n",
       "      <td>2982</td>\n",
       "      <td>16</td>\n",
       "      <td>55</td>\n",
       "      <td>2</td>\n",
       "      <td>-1</td>\n",
       "      <td>0</td>\n",
       "    </tr>\n",
       "    <tr>\n",
       "      <th>1</th>\n",
       "      <td>43</td>\n",
       "      <td>1187</td>\n",
       "      <td>4</td>\n",
       "      <td>80</td>\n",
       "      <td>2</td>\n",
       "      <td>-1</td>\n",
       "      <td>0</td>\n",
       "    </tr>\n",
       "    <tr>\n",
       "      <th>2</th>\n",
       "      <td>37</td>\n",
       "      <td>54</td>\n",
       "      <td>10</td>\n",
       "      <td>118</td>\n",
       "      <td>1</td>\n",
       "      <td>-1</td>\n",
       "      <td>0</td>\n",
       "    </tr>\n",
       "    <tr>\n",
       "      <th>3</th>\n",
       "      <td>30</td>\n",
       "      <td>817</td>\n",
       "      <td>22</td>\n",
       "      <td>180</td>\n",
       "      <td>4</td>\n",
       "      <td>-1</td>\n",
       "      <td>0</td>\n",
       "    </tr>\n",
       "    <tr>\n",
       "      <th>4</th>\n",
       "      <td>48</td>\n",
       "      <td>220</td>\n",
       "      <td>5</td>\n",
       "      <td>1005</td>\n",
       "      <td>2</td>\n",
       "      <td>-1</td>\n",
       "      <td>0</td>\n",
       "    </tr>\n",
       "  </tbody>\n",
       "</table>\n",
       "</div>"
      ],
      "text/plain": [
       "   age  balance  day  duration  campaign  pdays  previous\n",
       "0   44     2982   16        55         2     -1         0\n",
       "1   43     1187    4        80         2     -1         0\n",
       "2   37       54   10       118         1     -1         0\n",
       "3   30      817   22       180         4     -1         0\n",
       "4   48      220    5      1005         2     -1         0"
      ]
     },
     "execution_count": 21,
     "metadata": {},
     "output_type": "execute_result"
    }
   ],
   "source": [
    "# for validation purposes\n",
    "fs = FeatureSelector(x_train_bal.select_dtypes(\"int64\").columns.to_list())\n",
    "df = fs.fit_transform(x_train_bal)\n",
    "df.head()"
   ]
  },
  {
   "cell_type": "markdown",
   "metadata": {
    "id": "_ofrw3WLjVay"
   },
   "source": [
    "#### 1.2.2 Handling Categorical Features"
   ]
  },
  {
   "cell_type": "code",
   "execution_count": 22,
   "metadata": {
    "colab": {
     "base_uri": "https://localhost:8080/"
    },
    "executionInfo": {
     "elapsed": 7,
     "status": "ok",
     "timestamp": 1657736376075,
     "user": {
      "displayName": "Francisval Guedes",
      "userId": "04914963643323114232"
     },
     "user_tz": 180
    },
    "id": "UwL4czPyEhd9",
    "outputId": "ff7c93f6-91f3-4deb-dc50-37a2d1a5a93a"
   },
   "outputs": [
    {
     "data": {
      "text/plain": [
       "array(['jun', 'feb', 'jul', 'aug', 'may', 'apr', 'oct', 'nov', 'mar',\n",
       "       'jan', 'sep', 'dec'], dtype=object)"
      ]
     },
     "execution_count": 22,
     "metadata": {},
     "output_type": "execute_result"
    }
   ],
   "source": [
    "x_train_bal.month.unique()"
   ]
  },
  {
   "cell_type": "code",
   "execution_count": 23,
   "metadata": {
    "colab": {
     "base_uri": "https://localhost:8080/",
     "height": 206
    },
    "executionInfo": {
     "elapsed": 7,
     "status": "ok",
     "timestamp": 1657736376075,
     "user": {
      "displayName": "Francisval Guedes",
      "userId": "04914963643323114232"
     },
     "user_tz": 180
    },
    "id": "41xrQMJqmfEW",
    "outputId": "c4e64d1b-2984-4d53-eebd-29c589e4831b"
   },
   "outputs": [
    {
     "data": {
      "text/html": [
       "<div>\n",
       "<style scoped>\n",
       "    .dataframe tbody tr th:only-of-type {\n",
       "        vertical-align: middle;\n",
       "    }\n",
       "\n",
       "    .dataframe tbody tr th {\n",
       "        vertical-align: top;\n",
       "    }\n",
       "\n",
       "    .dataframe thead th {\n",
       "        text-align: right;\n",
       "    }\n",
       "</style>\n",
       "<table border=\"1\" class=\"dataframe\">\n",
       "  <thead>\n",
       "    <tr style=\"text-align: right;\">\n",
       "      <th></th>\n",
       "      <th>job</th>\n",
       "      <th>marital</th>\n",
       "      <th>education</th>\n",
       "      <th>housing</th>\n",
       "      <th>contact</th>\n",
       "      <th>month</th>\n",
       "      <th>poutcome</th>\n",
       "    </tr>\n",
       "  </thead>\n",
       "  <tbody>\n",
       "    <tr>\n",
       "      <th>0</th>\n",
       "      <td>white-collar</td>\n",
       "      <td>married</td>\n",
       "      <td>unknown</td>\n",
       "      <td>no</td>\n",
       "      <td>unknown</td>\n",
       "      <td>2st</td>\n",
       "      <td>unknown</td>\n",
       "    </tr>\n",
       "    <tr>\n",
       "      <th>1</th>\n",
       "      <td>self-employed</td>\n",
       "      <td>divorced</td>\n",
       "      <td>secondary</td>\n",
       "      <td>yes</td>\n",
       "      <td>cellular</td>\n",
       "      <td>1st</td>\n",
       "      <td>unknown</td>\n",
       "    </tr>\n",
       "    <tr>\n",
       "      <th>2</th>\n",
       "      <td>pink-collar</td>\n",
       "      <td>single</td>\n",
       "      <td>secondary</td>\n",
       "      <td>yes</td>\n",
       "      <td>cellular</td>\n",
       "      <td>3st</td>\n",
       "      <td>unknown</td>\n",
       "    </tr>\n",
       "    <tr>\n",
       "      <th>3</th>\n",
       "      <td>technician</td>\n",
       "      <td>married</td>\n",
       "      <td>secondary</td>\n",
       "      <td>yes</td>\n",
       "      <td>cellular</td>\n",
       "      <td>3st</td>\n",
       "      <td>unknown</td>\n",
       "    </tr>\n",
       "    <tr>\n",
       "      <th>4</th>\n",
       "      <td>pink-collar</td>\n",
       "      <td>single</td>\n",
       "      <td>secondary</td>\n",
       "      <td>no</td>\n",
       "      <td>unknown</td>\n",
       "      <td>2st</td>\n",
       "      <td>unknown</td>\n",
       "    </tr>\n",
       "  </tbody>\n",
       "</table>\n",
       "</div>"
      ],
      "text/plain": [
       "             job   marital  education housing   contact month poutcome\n",
       "0   white-collar   married    unknown      no   unknown   2st  unknown\n",
       "1  self-employed  divorced  secondary     yes  cellular   1st  unknown\n",
       "2    pink-collar    single  secondary     yes  cellular   3st  unknown\n",
       "3     technician   married  secondary     yes  cellular   3st  unknown\n",
       "4    pink-collar    single  secondary      no   unknown   2st  unknown"
      ]
     },
     "execution_count": 23,
     "metadata": {},
     "output_type": "execute_result"
    }
   ],
   "source": [
    "# for validation purposes\n",
    "fs = FeatureSelector(x_train_bal.select_dtypes(\"object\").columns.to_list())\n",
    "df = fs.fit_transform(x_train_bal)\n",
    "ct = CategoricalTransformer(new_features=True,colnames=df.columns.tolist())\n",
    "df_cat = ct.fit_transform(df)\n",
    "df_cat.head()"
   ]
  },
  {
   "cell_type": "code",
   "execution_count": 24,
   "metadata": {
    "colab": {
     "base_uri": "https://localhost:8080/"
    },
    "executionInfo": {
     "elapsed": 7,
     "status": "ok",
     "timestamp": 1657736376075,
     "user": {
      "displayName": "Francisval Guedes",
      "userId": "04914963643323114232"
     },
     "user_tz": 180
    },
    "id": "jmznhBWqo9zE",
    "outputId": "c92ea936-1ccc-41f3-c03a-c464f3159d9e"
   },
   "outputs": [
    {
     "data": {
      "text/plain": [
       "job          12\n",
       "marital       3\n",
       "education     4\n",
       "default       2\n",
       "housing       2\n",
       "loan          2\n",
       "contact       3\n",
       "month        12\n",
       "poutcome      4\n",
       "dtype: int64"
      ]
     },
     "execution_count": 24,
     "metadata": {},
     "output_type": "execute_result"
    }
   ],
   "source": [
    "# check the cardinality before and after transformation\n",
    "x_train_bal.select_dtypes(\"object\").apply(pd.Series.nunique)"
   ]
  },
  {
   "cell_type": "code",
   "execution_count": 25,
   "metadata": {
    "colab": {
     "base_uri": "https://localhost:8080/"
    },
    "executionInfo": {
     "elapsed": 729,
     "status": "ok",
     "timestamp": 1657736376798,
     "user": {
      "displayName": "Francisval Guedes",
      "userId": "04914963643323114232"
     },
     "user_tz": 180
    },
    "id": "ig-jZN0NpCTF",
    "outputId": "b2e60148-67af-4a67-f19e-220b7ca972d2"
   },
   "outputs": [
    {
     "data": {
      "text/plain": [
       "job          7\n",
       "marital      3\n",
       "education    4\n",
       "housing      2\n",
       "contact      3\n",
       "month        4\n",
       "poutcome     3\n",
       "dtype: int64"
      ]
     },
     "execution_count": 25,
     "metadata": {},
     "output_type": "execute_result"
    }
   ],
   "source": [
    "# check the cardinality before and after transformation\n",
    "df_cat.apply(pd.Series.nunique)"
   ]
  },
  {
   "cell_type": "markdown",
   "metadata": {
    "id": "ldfU54n7njja"
   },
   "source": [
    "#### 1.2.3 Handling Numerical Features"
   ]
  },
  {
   "cell_type": "code",
   "execution_count": 26,
   "metadata": {
    "colab": {
     "base_uri": "https://localhost:8080/"
    },
    "executionInfo": {
     "elapsed": 6,
     "status": "ok",
     "timestamp": 1657736376798,
     "user": {
      "displayName": "Francisval Guedes",
      "userId": "04914963643323114232"
     },
     "user_tz": 180
    },
    "id": "22lgbdTqpXqD",
    "outputId": "5ce52e48-a0a2-44d6-c4b7-fb31d41e3d91"
   },
   "outputs": [
    {
     "data": {
      "text/plain": [
       "array([[ 2.90610720e-01,  5.11327415e-01,  8.92935611e-02, ...,\n",
       "        -1.48151451e-01,  1.01614711e+02, -3.79845066e-01],\n",
       "       [ 1.98977648e-01, -1.13236706e-01, -1.43877047e+00, ...,\n",
       "        -1.48151451e-01,  1.01614711e+02, -3.79845066e-01],\n",
       "       [-3.50820780e-01, -5.07460188e-01, -6.74738454e-01, ...,\n",
       "        -5.41301273e-01,  1.01614711e+02, -3.79845066e-01],\n",
       "       ...,\n",
       "       [-1.17551842e+00, -3.70021286e-01, -1.65383777e-01, ...,\n",
       "        -5.41301273e-01,  1.01614711e+02, -3.79845066e-01],\n",
       "       [-9.92252279e-01, -5.26249303e-01, -6.74738454e-01, ...,\n",
       "        -5.41301273e-01,  1.01614711e+02, -3.79845066e-01],\n",
       "       [-1.54205071e+00,  2.94556173e+00, -1.65383777e-01, ...,\n",
       "         2.44998371e-01,  1.01614711e+02, -3.79845066e-01]])"
      ]
     },
     "execution_count": 26,
     "metadata": {},
     "output_type": "execute_result"
    }
   ],
   "source": [
    "# for validation purposes\n",
    "fs = FeatureSelector(x_train_bal.select_dtypes(\"int64\").columns.to_list())\n",
    "df = fs.fit_transform(x_train_bal)\n",
    "nt = NumericalTransformer(model=1)\n",
    "df_num = nt.fit_transform(df)\n",
    "df_num"
   ]
  },
  {
   "cell_type": "code",
   "execution_count": 27,
   "metadata": {
    "colab": {
     "base_uri": "https://localhost:8080/"
    },
    "executionInfo": {
     "elapsed": 6,
     "status": "ok",
     "timestamp": 1657736376798,
     "user": {
      "displayName": "Francisval Guedes",
      "userId": "04914963643323114232"
     },
     "user_tz": 180
    },
    "id": "JspziJunV4Z4",
    "outputId": "f27ec3c8-539d-4a75-da72-f7d685d79d6c"
   },
   "outputs": [
    {
     "data": {
      "text/plain": [
       "(21970, 7)"
      ]
     },
     "execution_count": 27,
     "metadata": {},
     "output_type": "execute_result"
    }
   ],
   "source": [
    "df_num.shape"
   ]
  },
  {
   "cell_type": "code",
   "execution_count": 28,
   "metadata": {
    "colab": {
     "base_uri": "https://localhost:8080/"
    },
    "executionInfo": {
     "elapsed": 5,
     "status": "ok",
     "timestamp": 1657736376798,
     "user": {
      "displayName": "Francisval Guedes",
      "userId": "04914963643323114232"
     },
     "user_tz": 180
    },
    "id": "GgJK5Bnspo8A",
    "outputId": "124e7e67-1f44-42b4-cab2-a6e24e7647c5"
   },
   "outputs": [
    {
     "data": {
      "text/plain": [
       "['age', 'balance', 'day', 'duration', 'campaign', 'pdays', 'previous']"
      ]
     },
     "execution_count": 28,
     "metadata": {},
     "output_type": "execute_result"
    }
   ],
   "source": [
    "# return columns name\n",
    "nt.get_feature_names_out()"
   ]
  },
  {
   "cell_type": "markdown",
   "metadata": {
    "id": "_HjGtsdP2xb9"
   },
   "source": [
    "#### 1.2.4 Data Preparation Pipeline"
   ]
  },
  {
   "cell_type": "code",
   "execution_count": 29,
   "metadata": {
    "colab": {
     "base_uri": "https://localhost:8080/"
    },
    "executionInfo": {
     "elapsed": 5,
     "status": "ok",
     "timestamp": 1657736376798,
     "user": {
      "displayName": "Francisval Guedes",
      "userId": "04914963643323114232"
     },
     "user_tz": 180
    },
    "id": "Ma4FbdM9n9Rh",
    "outputId": "e833823e-7852-4018-c7e1-78d712334f67"
   },
   "outputs": [
    {
     "name": "stdout",
     "output_type": "stream",
     "text": [
      "['job', 'marital', 'education', 'default', 'housing', 'loan', 'contact', 'month', 'poutcome']\n"
     ]
    }
   ],
   "source": [
    "print(x_train_bal.select_dtypes(\"object\").columns.to_list())"
   ]
  },
  {
   "cell_type": "code",
   "execution_count": 30,
   "metadata": {
    "colab": {
     "base_uri": "https://localhost:8080/"
    },
    "executionInfo": {
     "elapsed": 6,
     "status": "ok",
     "timestamp": 1657736376799,
     "user": {
      "displayName": "Francisval Guedes",
      "userId": "04914963643323114232"
     },
     "user_tz": 180
    },
    "id": "Q1FpwwaUoDcD",
    "outputId": "caa3a06d-0e93-4bab-e55f-580738145939"
   },
   "outputs": [
    {
     "name": "stdout",
     "output_type": "stream",
     "text": [
      "['age', 'balance', 'day', 'duration', 'campaign', 'pdays', 'previous']\n"
     ]
    }
   ],
   "source": [
    "print(x_train_bal.select_dtypes(\"int64\").columns.to_list())"
   ]
  },
  {
   "cell_type": "code",
   "execution_count": 31,
   "metadata": {
    "executionInfo": {
     "elapsed": 5,
     "status": "ok",
     "timestamp": 1657736376799,
     "user": {
      "displayName": "Francisval Guedes",
      "userId": "04914963643323114232"
     },
     "user_tz": 180
    },
    "id": "dOn6aApB212h"
   },
   "outputs": [],
   "source": [
    "# model = 0 (min-max), 1 (z-score), 2 (without normalization)\n",
    "numerical_model = 2\n",
    "\n",
    "# Categrical features to pass down the categorical pipeline\n",
    "categorical_features = x_train_bal.select_dtypes(\"object\").columns.to_list() \n",
    "\n",
    "# Numerical features to pass down the numerical pipeline\n",
    "numerical_features = x_train_bal.select_dtypes(\"int64\").columns.to_list()\n",
    "\n",
    "# Defining the steps for the categorical pipeline\n",
    "categorical_pipeline = Pipeline(steps=[('cat_selector', FeatureSelector(categorical_features)),\n",
    "                                       ('imputer_cat', SimpleImputer(strategy=\"most_frequent\")),\n",
    "                                       ('cat_transformer', CategoricalTransformer(colnames=categorical_features)),\n",
    "                                       # ('cat_encoder','passthrough'\n",
    "                                       ('cat_encoder', OneHotEncoder(sparse=False, drop=\"if_binary\"))\n",
    "                                       ]\n",
    "                                ) # drop=\"first\"\n",
    "\n",
    "# Defining the steps in the numerical pipeline\n",
    "numerical_pipeline = Pipeline(steps=[('num_selector', FeatureSelector(numerical_features)),\n",
    "                                     ('imputer_num', SimpleImputer(strategy=\"median\")),\n",
    "                                     ('num_transformer', NumericalTransformer(numerical_model, \n",
    "                                                                              colnames=numerical_features))])\n",
    "\n",
    "# Combine numerical and categorical pieplines into one full big pipeline horizontally\n",
    "full_pipeline_preprocessing = FeatureUnion(transformer_list=[('cat_pipeline', categorical_pipeline),\n",
    "                                                             ('num_pipeline', numerical_pipeline)]\n",
    "                                           )"
   ]
  },
  {
   "cell_type": "code",
   "execution_count": 32,
   "metadata": {
    "colab": {
     "base_uri": "https://localhost:8080/",
     "height": 317
    },
    "executionInfo": {
     "elapsed": 5,
     "status": "ok",
     "timestamp": 1657736376799,
     "user": {
      "displayName": "Francisval Guedes",
      "userId": "04914963643323114232"
     },
     "user_tz": 180
    },
    "id": "eKOidk7l4PXz",
    "outputId": "8518fc98-b99f-46e2-ed65-bbdb31c3d0f7"
   },
   "outputs": [
    {
     "data": {
      "text/html": [
       "<div>\n",
       "<style scoped>\n",
       "    .dataframe tbody tr th:only-of-type {\n",
       "        vertical-align: middle;\n",
       "    }\n",
       "\n",
       "    .dataframe tbody tr th {\n",
       "        vertical-align: top;\n",
       "    }\n",
       "\n",
       "    .dataframe thead th {\n",
       "        text-align: right;\n",
       "    }\n",
       "</style>\n",
       "<table border=\"1\" class=\"dataframe\">\n",
       "  <thead>\n",
       "    <tr style=\"text-align: right;\">\n",
       "      <th></th>\n",
       "      <th>job_blue-collar</th>\n",
       "      <th>job_entrepreneur</th>\n",
       "      <th>job_other</th>\n",
       "      <th>job_pink-collar</th>\n",
       "      <th>job_self-employed</th>\n",
       "      <th>job_technician</th>\n",
       "      <th>job_white-collar</th>\n",
       "      <th>marital_divorced</th>\n",
       "      <th>marital_married</th>\n",
       "      <th>marital_single</th>\n",
       "      <th>...</th>\n",
       "      <th>poutcome_failure</th>\n",
       "      <th>poutcome_success</th>\n",
       "      <th>poutcome_unknown</th>\n",
       "      <th>age</th>\n",
       "      <th>balance</th>\n",
       "      <th>day</th>\n",
       "      <th>duration</th>\n",
       "      <th>campaign</th>\n",
       "      <th>pdays</th>\n",
       "      <th>previous</th>\n",
       "    </tr>\n",
       "  </thead>\n",
       "  <tbody>\n",
       "    <tr>\n",
       "      <th>0</th>\n",
       "      <td>0.0</td>\n",
       "      <td>0.0</td>\n",
       "      <td>0.0</td>\n",
       "      <td>0.0</td>\n",
       "      <td>0.0</td>\n",
       "      <td>0.0</td>\n",
       "      <td>1.0</td>\n",
       "      <td>0.0</td>\n",
       "      <td>1.0</td>\n",
       "      <td>0.0</td>\n",
       "      <td>...</td>\n",
       "      <td>0.0</td>\n",
       "      <td>0.0</td>\n",
       "      <td>1.0</td>\n",
       "      <td>44.0</td>\n",
       "      <td>2982.0</td>\n",
       "      <td>16.0</td>\n",
       "      <td>55.0</td>\n",
       "      <td>2.0</td>\n",
       "      <td>10000.0</td>\n",
       "      <td>0.0</td>\n",
       "    </tr>\n",
       "    <tr>\n",
       "      <th>1</th>\n",
       "      <td>0.0</td>\n",
       "      <td>0.0</td>\n",
       "      <td>0.0</td>\n",
       "      <td>0.0</td>\n",
       "      <td>1.0</td>\n",
       "      <td>0.0</td>\n",
       "      <td>0.0</td>\n",
       "      <td>1.0</td>\n",
       "      <td>0.0</td>\n",
       "      <td>0.0</td>\n",
       "      <td>...</td>\n",
       "      <td>0.0</td>\n",
       "      <td>0.0</td>\n",
       "      <td>1.0</td>\n",
       "      <td>43.0</td>\n",
       "      <td>1187.0</td>\n",
       "      <td>4.0</td>\n",
       "      <td>80.0</td>\n",
       "      <td>2.0</td>\n",
       "      <td>10000.0</td>\n",
       "      <td>0.0</td>\n",
       "    </tr>\n",
       "    <tr>\n",
       "      <th>2</th>\n",
       "      <td>0.0</td>\n",
       "      <td>0.0</td>\n",
       "      <td>0.0</td>\n",
       "      <td>1.0</td>\n",
       "      <td>0.0</td>\n",
       "      <td>0.0</td>\n",
       "      <td>0.0</td>\n",
       "      <td>0.0</td>\n",
       "      <td>0.0</td>\n",
       "      <td>1.0</td>\n",
       "      <td>...</td>\n",
       "      <td>0.0</td>\n",
       "      <td>0.0</td>\n",
       "      <td>1.0</td>\n",
       "      <td>37.0</td>\n",
       "      <td>54.0</td>\n",
       "      <td>10.0</td>\n",
       "      <td>118.0</td>\n",
       "      <td>1.0</td>\n",
       "      <td>10000.0</td>\n",
       "      <td>0.0</td>\n",
       "    </tr>\n",
       "    <tr>\n",
       "      <th>3</th>\n",
       "      <td>0.0</td>\n",
       "      <td>0.0</td>\n",
       "      <td>0.0</td>\n",
       "      <td>0.0</td>\n",
       "      <td>0.0</td>\n",
       "      <td>1.0</td>\n",
       "      <td>0.0</td>\n",
       "      <td>0.0</td>\n",
       "      <td>1.0</td>\n",
       "      <td>0.0</td>\n",
       "      <td>...</td>\n",
       "      <td>0.0</td>\n",
       "      <td>0.0</td>\n",
       "      <td>1.0</td>\n",
       "      <td>30.0</td>\n",
       "      <td>817.0</td>\n",
       "      <td>22.0</td>\n",
       "      <td>180.0</td>\n",
       "      <td>4.0</td>\n",
       "      <td>10000.0</td>\n",
       "      <td>0.0</td>\n",
       "    </tr>\n",
       "    <tr>\n",
       "      <th>4</th>\n",
       "      <td>0.0</td>\n",
       "      <td>0.0</td>\n",
       "      <td>0.0</td>\n",
       "      <td>1.0</td>\n",
       "      <td>0.0</td>\n",
       "      <td>0.0</td>\n",
       "      <td>0.0</td>\n",
       "      <td>0.0</td>\n",
       "      <td>0.0</td>\n",
       "      <td>1.0</td>\n",
       "      <td>...</td>\n",
       "      <td>0.0</td>\n",
       "      <td>0.0</td>\n",
       "      <td>1.0</td>\n",
       "      <td>48.0</td>\n",
       "      <td>220.0</td>\n",
       "      <td>5.0</td>\n",
       "      <td>1005.0</td>\n",
       "      <td>2.0</td>\n",
       "      <td>10000.0</td>\n",
       "      <td>0.0</td>\n",
       "    </tr>\n",
       "  </tbody>\n",
       "</table>\n",
       "<p>5 rows × 32 columns</p>\n",
       "</div>"
      ],
      "text/plain": [
       "   job_blue-collar  job_entrepreneur  job_other  job_pink-collar  \\\n",
       "0              0.0               0.0        0.0              0.0   \n",
       "1              0.0               0.0        0.0              0.0   \n",
       "2              0.0               0.0        0.0              1.0   \n",
       "3              0.0               0.0        0.0              0.0   \n",
       "4              0.0               0.0        0.0              1.0   \n",
       "\n",
       "   job_self-employed  job_technician  job_white-collar  marital_divorced  \\\n",
       "0                0.0             0.0               1.0               0.0   \n",
       "1                1.0             0.0               0.0               1.0   \n",
       "2                0.0             0.0               0.0               0.0   \n",
       "3                0.0             1.0               0.0               0.0   \n",
       "4                0.0             0.0               0.0               0.0   \n",
       "\n",
       "   marital_married  marital_single  ...  poutcome_failure  poutcome_success  \\\n",
       "0              1.0             0.0  ...               0.0               0.0   \n",
       "1              0.0             0.0  ...               0.0               0.0   \n",
       "2              0.0             1.0  ...               0.0               0.0   \n",
       "3              1.0             0.0  ...               0.0               0.0   \n",
       "4              0.0             1.0  ...               0.0               0.0   \n",
       "\n",
       "   poutcome_unknown   age  balance   day  duration  campaign    pdays  \\\n",
       "0               1.0  44.0   2982.0  16.0      55.0       2.0  10000.0   \n",
       "1               1.0  43.0   1187.0   4.0      80.0       2.0  10000.0   \n",
       "2               1.0  37.0     54.0  10.0     118.0       1.0  10000.0   \n",
       "3               1.0  30.0    817.0  22.0     180.0       4.0  10000.0   \n",
       "4               1.0  48.0    220.0   5.0    1005.0       2.0  10000.0   \n",
       "\n",
       "   previous  \n",
       "0       0.0  \n",
       "1       0.0  \n",
       "2       0.0  \n",
       "3       0.0  \n",
       "4       0.0  \n",
       "\n",
       "[5 rows x 32 columns]"
      ]
     },
     "execution_count": 32,
     "metadata": {},
     "output_type": "execute_result"
    }
   ],
   "source": [
    "# for validation purposes\n",
    "new_data = full_pipeline_preprocessing.fit_transform(x_train_bal)\n",
    "# cat_names is a numpy array\n",
    "cat_names = full_pipeline_preprocessing.get_params()[\"cat_pipeline\"][3].get_feature_names_out().tolist()\n",
    "# num_names is a list\n",
    "num_names = full_pipeline_preprocessing.get_params()[\"num_pipeline\"][2].get_feature_names_out()\n",
    "df = pd.DataFrame(new_data,columns = cat_names + num_names)\n",
    "df.head()"
   ]
  },
  {
   "cell_type": "code",
   "execution_count": 33,
   "metadata": {
    "colab": {
     "base_uri": "https://localhost:8080/"
    },
    "executionInfo": {
     "elapsed": 5,
     "status": "ok",
     "timestamp": 1657736376799,
     "user": {
      "displayName": "Francisval Guedes",
      "userId": "04914963643323114232"
     },
     "user_tz": 180
    },
    "id": "cP9QWxP4V8Gd",
    "outputId": "11e8741d-2b91-49a8-b490-c75456778109"
   },
   "outputs": [
    {
     "name": "stdout",
     "output_type": "stream",
     "text": [
      "['job_blue-collar', 'job_entrepreneur', 'job_other', 'job_pink-collar', 'job_self-employed', 'job_technician', 'job_white-collar', 'marital_divorced', 'marital_married', 'marital_single', 'education_primary', 'education_secondary', 'education_tertiary', 'education_unknown', 'housing_yes', 'contact_cellular', 'contact_telephone', 'contact_unknown', 'month_1st', 'month_2st', 'month_3st', 'month_4st', 'poutcome_failure', 'poutcome_success', 'poutcome_unknown', 'age', 'balance', 'day', 'duration', 'campaign', 'pdays', 'previous']\n"
     ]
    }
   ],
   "source": [
    "print(df.columns.to_list())"
   ]
  },
  {
   "cell_type": "code",
   "execution_count": 34,
   "metadata": {
    "colab": {
     "base_uri": "https://localhost:8080/"
    },
    "executionInfo": {
     "elapsed": 4,
     "status": "ok",
     "timestamp": 1657736376799,
     "user": {
      "displayName": "Francisval Guedes",
      "userId": "04914963643323114232"
     },
     "user_tz": 180
    },
    "id": "sH0ZkSwcXdU2",
    "outputId": "d09d31da-e6b5-47f8-f519-814620c0210b"
   },
   "outputs": [
    {
     "name": "stdout",
     "output_type": "stream",
     "text": [
      "(21970, 32)\n"
     ]
    }
   ],
   "source": [
    "print(new_data.shape)"
   ]
  },
  {
   "cell_type": "markdown",
   "metadata": {
    "id": "3JBkxykTp2HF"
   },
   "source": [
    "## 1.5 Holdout Training"
   ]
  },
  {
   "cell_type": "markdown",
   "metadata": {
    "id": "_toW-9SWAZv7"
   },
   "source": [
    "In this example the inference artifacts are:\n",
    "- pipe (contains trained model and the preprocesing pipeline\n",
    "- le (label encoder object used to encode the target variable)"
   ]
  },
  {
   "cell_type": "code",
   "execution_count": 35,
   "metadata": {
    "executionInfo": {
     "elapsed": 4,
     "status": "ok",
     "timestamp": 1657736376799,
     "user": {
      "displayName": "Francisval Guedes",
      "userId": "04914963643323114232"
     },
     "user_tz": 180
    },
    "id": "-PO8QNlD8PQB"
   },
   "outputs": [],
   "source": [
    "def nn_model():\t\n",
    "  # define model\n",
    "  model = Sequential()\n",
    "  model.add(Dense(120, input_dim=32, activation='relu', kernel_initializer='he_uniform'))\n",
    "  model.add(Dense(60, activation='relu', kernel_initializer='he_uniform'))\n",
    "  model.add(Dense(1, activation='sigmoid'))\n",
    "\n",
    "  # compile model\n",
    "  opt =  'adam'\n",
    "  model.compile(loss='binary_crossentropy', optimizer=opt, metrics=['accuracy'])\n",
    "\n",
    "  return model"
   ]
  },
  {
   "cell_type": "code",
   "execution_count": 36,
   "metadata": {
    "colab": {
     "base_uri": "https://localhost:8080/"
    },
    "executionInfo": {
     "elapsed": 202634,
     "status": "ok",
     "timestamp": 1657736579429,
     "user": {
      "displayName": "Francisval Guedes",
      "userId": "04914963643323114232"
     },
     "user_tz": 180
    },
    "id": "v-CIUlIE2aVU",
    "outputId": "31819144-b155-42a5-ad25-716417f18281"
   },
   "outputs": [
    {
     "name": "stderr",
     "output_type": "stream",
     "text": [
      "14-07-2022 11:03:39 Training\n"
     ]
    },
    {
     "name": "stdout",
     "output_type": "stream",
     "text": [
      "Epoch 1/100\n",
      "687/687 [==============================] - 1s 882us/step - loss: 34.5711 - accuracy: 0.6790 - val_loss: 9.0118 - val_accuracy: 0.8521\n",
      "Epoch 2/100\n",
      "687/687 [==============================] - 1s 770us/step - loss: 12.3256 - accuracy: 0.7079 - val_loss: 42.9071 - val_accuracy: 0.1918\n",
      "Epoch 3/100\n",
      "687/687 [==============================] - 1s 749us/step - loss: 11.3182 - accuracy: 0.7126 - val_loss: 8.5325 - val_accuracy: 0.7035\n",
      "Epoch 4/100\n",
      "687/687 [==============================] - 1s 741us/step - loss: 9.1241 - accuracy: 0.7234 - val_loss: 3.2199 - val_accuracy: 0.8717\n",
      "Epoch 5/100\n",
      "687/687 [==============================] - 1s 736us/step - loss: 9.5194 - accuracy: 0.7213 - val_loss: 13.8256 - val_accuracy: 0.4600\n",
      "Epoch 6/100\n",
      "687/687 [==============================] - 0s 722us/step - loss: 8.2427 - accuracy: 0.7380 - val_loss: 6.9814 - val_accuracy: 0.7433\n",
      "Epoch 7/100\n",
      "687/687 [==============================] - 1s 712us/step - loss: 7.6684 - accuracy: 0.7339 - val_loss: 4.5320 - val_accuracy: 0.8798\n",
      "Epoch 8/100\n",
      "687/687 [==============================] - 1s 714us/step - loss: 6.3938 - accuracy: 0.7471 - val_loss: 1.7772 - val_accuracy: 0.8784\n",
      "Epoch 9/100\n",
      "687/687 [==============================] - 1s 724us/step - loss: 6.7563 - accuracy: 0.7421 - val_loss: 13.6033 - val_accuracy: 0.5265\n",
      "Epoch 10/100\n",
      "687/687 [==============================] - 1s 736us/step - loss: 4.9599 - accuracy: 0.7569 - val_loss: 5.3421 - val_accuracy: 0.6967\n",
      "Epoch 11/100\n",
      "687/687 [==============================] - 1s 718us/step - loss: 5.1616 - accuracy: 0.7551 - val_loss: 6.5362 - val_accuracy: 0.7374\n",
      "Epoch 12/100\n",
      "687/687 [==============================] - 1s 745us/step - loss: 6.4001 - accuracy: 0.7498 - val_loss: 3.2614 - val_accuracy: 0.8047\n",
      "Epoch 13/100\n",
      "687/687 [==============================] - 1s 756us/step - loss: 4.3500 - accuracy: 0.7636 - val_loss: 2.0493 - val_accuracy: 0.8907\n",
      "Epoch 14/100\n",
      "687/687 [==============================] - 1s 764us/step - loss: 3.9297 - accuracy: 0.7665 - val_loss: 3.1172 - val_accuracy: 0.8374\n",
      "Epoch 15/100\n",
      "687/687 [==============================] - 1s 735us/step - loss: 3.4824 - accuracy: 0.7672 - val_loss: 24.3115 - val_accuracy: 0.2746\n",
      "Epoch 16/100\n",
      "687/687 [==============================] - 1s 747us/step - loss: 3.6609 - accuracy: 0.7656 - val_loss: 2.9421 - val_accuracy: 0.8197\n",
      "Epoch 17/100\n",
      "687/687 [==============================] - 0s 715us/step - loss: 3.5040 - accuracy: 0.7624 - val_loss: 29.4676 - val_accuracy: 0.2784\n",
      "Epoch 18/100\n",
      "687/687 [==============================] - 1s 748us/step - loss: 2.8188 - accuracy: 0.7800 - val_loss: 1.2684 - val_accuracy: 0.8844\n",
      "Epoch 19/100\n",
      "687/687 [==============================] - 1s 742us/step - loss: 2.9127 - accuracy: 0.7695 - val_loss: 9.1876 - val_accuracy: 0.4626\n",
      "Epoch 20/100\n",
      "687/687 [==============================] - 1s 743us/step - loss: 2.5233 - accuracy: 0.7760 - val_loss: 1.5096 - val_accuracy: 0.8120\n",
      "Epoch 21/100\n",
      "687/687 [==============================] - 1s 746us/step - loss: 2.4905 - accuracy: 0.7796 - val_loss: 1.7288 - val_accuracy: 0.8453\n",
      "Epoch 22/100\n",
      "687/687 [==============================] - 1s 752us/step - loss: 2.0532 - accuracy: 0.7857 - val_loss: 1.4173 - val_accuracy: 0.7850\n",
      "Epoch 23/100\n",
      "687/687 [==============================] - 1s 739us/step - loss: 2.4722 - accuracy: 0.7723 - val_loss: 2.6435 - val_accuracy: 0.6986\n",
      "Epoch 24/100\n",
      "687/687 [==============================] - 1s 739us/step - loss: 2.5028 - accuracy: 0.7705 - val_loss: 1.1401 - val_accuracy: 0.8393\n",
      "Epoch 25/100\n",
      "687/687 [==============================] - 1s 731us/step - loss: 1.9978 - accuracy: 0.7815 - val_loss: 2.5211 - val_accuracy: 0.7649\n",
      "Epoch 26/100\n",
      "687/687 [==============================] - 0s 721us/step - loss: 1.9326 - accuracy: 0.7847 - val_loss: 0.9587 - val_accuracy: 0.8896\n",
      "Epoch 27/100\n",
      "687/687 [==============================] - 1s 730us/step - loss: 1.7798 - accuracy: 0.7846 - val_loss: 1.6940 - val_accuracy: 0.8065\n",
      "Epoch 28/100\n",
      "687/687 [==============================] - 0s 726us/step - loss: 1.5369 - accuracy: 0.7939 - val_loss: 1.1565 - val_accuracy: 0.8332\n",
      "Epoch 29/100\n",
      "687/687 [==============================] - 1s 718us/step - loss: 1.8186 - accuracy: 0.7833 - val_loss: 4.8438 - val_accuracy: 0.5172\n",
      "Epoch 30/100\n",
      "687/687 [==============================] - 1s 739us/step - loss: 1.8439 - accuracy: 0.7786 - val_loss: 1.5079 - val_accuracy: 0.7262\n",
      "Epoch 31/100\n",
      "687/687 [==============================] - 0s 725us/step - loss: 1.3284 - accuracy: 0.7975 - val_loss: 0.8297 - val_accuracy: 0.8512\n",
      "Epoch 32/100\n",
      "687/687 [==============================] - 1s 763us/step - loss: 1.4258 - accuracy: 0.7890 - val_loss: 0.9124 - val_accuracy: 0.8755\n",
      "Epoch 33/100\n",
      "687/687 [==============================] - 1s 748us/step - loss: 1.6395 - accuracy: 0.7816 - val_loss: 0.6443 - val_accuracy: 0.8791\n",
      "Epoch 34/100\n",
      "687/687 [==============================] - 1s 749us/step - loss: 1.2814 - accuracy: 0.7914 - val_loss: 1.3105 - val_accuracy: 0.7562\n",
      "Epoch 35/100\n",
      "687/687 [==============================] - 1s 765us/step - loss: 1.2656 - accuracy: 0.7951 - val_loss: 0.6222 - val_accuracy: 0.8742\n",
      "Epoch 36/100\n",
      "687/687 [==============================] - 1s 751us/step - loss: 1.1016 - accuracy: 0.7974 - val_loss: 0.7666 - val_accuracy: 0.8633\n",
      "Epoch 37/100\n",
      "687/687 [==============================] - 1s 746us/step - loss: 1.0406 - accuracy: 0.8026 - val_loss: 0.9485 - val_accuracy: 0.7694\n",
      "Epoch 38/100\n",
      "687/687 [==============================] - 1s 746us/step - loss: 1.0418 - accuracy: 0.7991 - val_loss: 1.3725 - val_accuracy: 0.7025\n",
      "Epoch 39/100\n",
      "687/687 [==============================] - 1s 740us/step - loss: 0.9463 - accuracy: 0.7974 - val_loss: 4.4017 - val_accuracy: 0.3840\n",
      "Epoch 40/100\n",
      "687/687 [==============================] - 0s 722us/step - loss: 0.8439 - accuracy: 0.8023 - val_loss: 0.6790 - val_accuracy: 0.8318\n",
      "Epoch 41/100\n",
      "687/687 [==============================] - 1s 719us/step - loss: 0.9769 - accuracy: 0.7944 - val_loss: 0.7940 - val_accuracy: 0.7844\n",
      "Epoch 42/100\n",
      "687/687 [==============================] - 1s 735us/step - loss: 0.8193 - accuracy: 0.8008 - val_loss: 2.2040 - val_accuracy: 0.5547\n",
      "Epoch 43/100\n",
      "687/687 [==============================] - 1s 765us/step - loss: 0.6597 - accuracy: 0.8136 - val_loss: 1.8464 - val_accuracy: 0.5957\n",
      "Epoch 44/100\n",
      "687/687 [==============================] - 1s 755us/step - loss: 0.8411 - accuracy: 0.7928 - val_loss: 1.9314 - val_accuracy: 0.6961\n",
      "Epoch 45/100\n",
      "687/687 [==============================] - 1s 774us/step - loss: 0.7674 - accuracy: 0.8024 - val_loss: 0.9111 - val_accuracy: 0.7480\n",
      "Epoch 46/100\n",
      "687/687 [==============================] - 1s 739us/step - loss: 0.6545 - accuracy: 0.8015 - val_loss: 1.1169 - val_accuracy: 0.6784\n",
      "Epoch 47/100\n",
      "687/687 [==============================] - 0s 728us/step - loss: 0.5558 - accuracy: 0.8213 - val_loss: 0.7665 - val_accuracy: 0.7483\n",
      "Epoch 48/100\n",
      "687/687 [==============================] - 1s 752us/step - loss: 0.6361 - accuracy: 0.8083 - val_loss: 1.3317 - val_accuracy: 0.6322\n",
      "Epoch 49/100\n",
      "687/687 [==============================] - 0s 722us/step - loss: 0.6205 - accuracy: 0.8071 - val_loss: 0.4320 - val_accuracy: 0.8660\n",
      "Epoch 50/100\n",
      "687/687 [==============================] - 1s 735us/step - loss: 0.6117 - accuracy: 0.8083 - val_loss: 0.6028 - val_accuracy: 0.8310\n",
      "Epoch 51/100\n",
      "687/687 [==============================] - 1s 742us/step - loss: 0.5364 - accuracy: 0.8183 - val_loss: 0.4986 - val_accuracy: 0.8134\n",
      "Epoch 52/100\n",
      "687/687 [==============================] - 1s 765us/step - loss: 0.4951 - accuracy: 0.8228 - val_loss: 0.6357 - val_accuracy: 0.7379\n",
      "Epoch 53/100\n",
      "687/687 [==============================] - 1s 749us/step - loss: 0.5390 - accuracy: 0.8133 - val_loss: 0.6591 - val_accuracy: 0.7791\n",
      "Epoch 54/100\n",
      "687/687 [==============================] - 1s 759us/step - loss: 0.5225 - accuracy: 0.8125 - val_loss: 0.4634 - val_accuracy: 0.8190\n",
      "Epoch 55/100\n",
      "687/687 [==============================] - 1s 745us/step - loss: 0.4895 - accuracy: 0.8173 - val_loss: 0.3977 - val_accuracy: 0.8409\n",
      "Epoch 56/100\n",
      "687/687 [==============================] - 1s 764us/step - loss: 0.4662 - accuracy: 0.8258 - val_loss: 0.4663 - val_accuracy: 0.8207\n",
      "Epoch 57/100\n",
      "687/687 [==============================] - 1s 746us/step - loss: 0.4588 - accuracy: 0.8262 - val_loss: 0.3498 - val_accuracy: 0.8670\n",
      "Epoch 58/100\n",
      "687/687 [==============================] - 1s 755us/step - loss: 0.4276 - accuracy: 0.8264 - val_loss: 0.3948 - val_accuracy: 0.8370\n",
      "Epoch 59/100\n",
      "687/687 [==============================] - 1s 746us/step - loss: 0.4729 - accuracy: 0.8171 - val_loss: 0.3958 - val_accuracy: 0.8332\n",
      "Epoch 60/100\n",
      "687/687 [==============================] - 1s 746us/step - loss: 0.4024 - accuracy: 0.8341 - val_loss: 0.3196 - val_accuracy: 0.8640\n",
      "Epoch 61/100\n",
      "687/687 [==============================] - 1s 755us/step - loss: 0.4032 - accuracy: 0.8307 - val_loss: 0.3460 - val_accuracy: 0.8468\n",
      "Epoch 62/100\n",
      "687/687 [==============================] - 1s 800us/step - loss: 0.4094 - accuracy: 0.8294 - val_loss: 0.2884 - val_accuracy: 0.8861\n",
      "Epoch 63/100\n",
      "687/687 [==============================] - 1s 746us/step - loss: 0.3991 - accuracy: 0.8291 - val_loss: 0.3526 - val_accuracy: 0.8654\n",
      "Epoch 64/100\n",
      "687/687 [==============================] - 1s 721us/step - loss: 0.3951 - accuracy: 0.8322 - val_loss: 0.5218 - val_accuracy: 0.7714\n",
      "Epoch 65/100\n",
      "687/687 [==============================] - 1s 734us/step - loss: 0.3824 - accuracy: 0.8374 - val_loss: 0.7746 - val_accuracy: 0.6423\n",
      "Epoch 66/100\n",
      "687/687 [==============================] - 0s 728us/step - loss: 0.3769 - accuracy: 0.8348 - val_loss: 0.4315 - val_accuracy: 0.8077\n",
      "Epoch 67/100\n",
      "687/687 [==============================] - 1s 749us/step - loss: 0.3797 - accuracy: 0.8323 - val_loss: 0.6366 - val_accuracy: 0.7100\n",
      "Epoch 68/100\n",
      "687/687 [==============================] - 1s 754us/step - loss: 0.3748 - accuracy: 0.8402 - val_loss: 0.3907 - val_accuracy: 0.8336\n",
      "Epoch 69/100\n",
      "687/687 [==============================] - 1s 757us/step - loss: 0.3853 - accuracy: 0.8324 - val_loss: 0.5349 - val_accuracy: 0.7491\n",
      "Epoch 70/100\n",
      "687/687 [==============================] - 1s 755us/step - loss: 0.3750 - accuracy: 0.8357 - val_loss: 0.4513 - val_accuracy: 0.8106\n",
      "Epoch 71/100\n",
      "687/687 [==============================] - 1s 743us/step - loss: 0.3682 - accuracy: 0.8391 - val_loss: 0.5767 - val_accuracy: 0.7444\n",
      "Epoch 72/100\n",
      "687/687 [==============================] - 1s 770us/step - loss: 0.3739 - accuracy: 0.8362 - val_loss: 0.4476 - val_accuracy: 0.8005\n",
      "Epoch 73/100\n",
      "687/687 [==============================] - 1s 736us/step - loss: 0.3782 - accuracy: 0.8345 - val_loss: 0.4420 - val_accuracy: 0.8145\n",
      "Epoch 74/100\n",
      "687/687 [==============================] - 1s 752us/step - loss: 0.3759 - accuracy: 0.8383 - val_loss: 0.4272 - val_accuracy: 0.8245\n",
      "Epoch 75/100\n",
      "687/687 [==============================] - 1s 744us/step - loss: 0.3704 - accuracy: 0.8366 - val_loss: 0.4417 - val_accuracy: 0.8046\n",
      "Epoch 76/100\n",
      "687/687 [==============================] - 1s 780us/step - loss: 0.3691 - accuracy: 0.8387 - val_loss: 0.3255 - val_accuracy: 0.8603\n",
      "Epoch 77/100\n",
      "687/687 [==============================] - 1s 730us/step - loss: 0.3693 - accuracy: 0.8364 - val_loss: 0.4995 - val_accuracy: 0.7679\n",
      "Epoch 78/100\n",
      "687/687 [==============================] - 1s 740us/step - loss: 0.3689 - accuracy: 0.8388 - val_loss: 0.4333 - val_accuracy: 0.8185\n",
      "Epoch 79/100\n",
      "687/687 [==============================] - 0s 723us/step - loss: 0.3616 - accuracy: 0.8456 - val_loss: 0.4747 - val_accuracy: 0.7864\n",
      "Epoch 80/100\n",
      "687/687 [==============================] - 1s 733us/step - loss: 0.3647 - accuracy: 0.8397 - val_loss: 0.3128 - val_accuracy: 0.8703\n",
      "Epoch 81/100\n",
      "687/687 [==============================] - 1s 745us/step - loss: 0.3592 - accuracy: 0.8420 - val_loss: 0.5289 - val_accuracy: 0.7746\n",
      "Epoch 82/100\n",
      "687/687 [==============================] - 1s 746us/step - loss: 0.3639 - accuracy: 0.8410 - val_loss: 0.5296 - val_accuracy: 0.7760\n",
      "Epoch 83/100\n",
      "687/687 [==============================] - 1s 754us/step - loss: 0.3577 - accuracy: 0.8446 - val_loss: 0.4146 - val_accuracy: 0.8280\n",
      "Epoch 84/100\n",
      "687/687 [==============================] - 1s 746us/step - loss: 0.3566 - accuracy: 0.8445 - val_loss: 0.4129 - val_accuracy: 0.8201\n",
      "Epoch 85/100\n",
      "687/687 [==============================] - 1s 742us/step - loss: 0.3574 - accuracy: 0.8459 - val_loss: 0.4017 - val_accuracy: 0.8447\n",
      "Epoch 86/100\n",
      "687/687 [==============================] - 1s 739us/step - loss: 0.3569 - accuracy: 0.8451 - val_loss: 0.3941 - val_accuracy: 0.8464\n",
      "Epoch 87/100\n",
      "687/687 [==============================] - 1s 745us/step - loss: 0.3624 - accuracy: 0.8391 - val_loss: 0.3248 - val_accuracy: 0.8698\n",
      "Epoch 88/100\n",
      "687/687 [==============================] - 1s 749us/step - loss: 0.3545 - accuracy: 0.8487 - val_loss: 0.4600 - val_accuracy: 0.8299\n",
      "Epoch 89/100\n",
      "687/687 [==============================] - 1s 748us/step - loss: 0.3526 - accuracy: 0.8468 - val_loss: 0.5096 - val_accuracy: 0.7858\n",
      "Epoch 90/100\n",
      "687/687 [==============================] - 1s 748us/step - loss: 0.3519 - accuracy: 0.8485 - val_loss: 0.4147 - val_accuracy: 0.8215\n",
      "Epoch 91/100\n",
      "687/687 [==============================] - 1s 746us/step - loss: 0.3480 - accuracy: 0.8487 - val_loss: 0.4699 - val_accuracy: 0.7946\n",
      "Epoch 92/100\n",
      "687/687 [==============================] - 1s 741us/step - loss: 0.3487 - accuracy: 0.8505 - val_loss: 0.5320 - val_accuracy: 0.7861\n",
      "Epoch 93/100\n",
      "687/687 [==============================] - 1s 725us/step - loss: 0.3556 - accuracy: 0.8472 - val_loss: 0.4648 - val_accuracy: 0.8213\n",
      "Epoch 94/100\n",
      "687/687 [==============================] - 1s 755us/step - loss: 0.3462 - accuracy: 0.8514 - val_loss: 0.4963 - val_accuracy: 0.8076\n",
      "Epoch 95/100\n",
      "687/687 [==============================] - 1s 743us/step - loss: 0.3461 - accuracy: 0.8518 - val_loss: 0.6320 - val_accuracy: 0.7194\n",
      "Epoch 96/100\n",
      "687/687 [==============================] - 1s 724us/step - loss: 0.3498 - accuracy: 0.8499 - val_loss: 0.4805 - val_accuracy: 0.8063\n",
      "Epoch 97/100\n",
      "687/687 [==============================] - 1s 730us/step - loss: 0.3551 - accuracy: 0.8458 - val_loss: 0.4349 - val_accuracy: 0.8415\n",
      "Epoch 98/100\n",
      "687/687 [==============================] - 1s 732us/step - loss: 0.3460 - accuracy: 0.8515 - val_loss: 0.4811 - val_accuracy: 0.8182\n",
      "Epoch 99/100\n",
      "687/687 [==============================] - 1s 722us/step - loss: 0.3444 - accuracy: 0.8544 - val_loss: 0.3767 - val_accuracy: 0.8231\n",
      "Epoch 100/100\n",
      "687/687 [==============================] - 1s 735us/step - loss: 0.3461 - accuracy: 0.8492 - val_loss: 0.4477 - val_accuracy: 0.8046\n"
     ]
    }
   ],
   "source": [
    "# The full pipeline \n",
    "\n",
    "#early_stopping = callbacks.EarlyStopping(monitor='val_loss', patience=10, verbose=1, mode='auto')\n",
    "\n",
    "early_stopping = callbacks.EarlyStopping(\n",
    "                monitor='val_loss',   # 'loss'             \n",
    "                min_delta=0.001, # Minimum change\n",
    "                patience=50, # Number of epochs with no improvement\n",
    "                verbose=1, # \n",
    "                mode='auto', # \"auto\", \"min\", \"max\"\n",
    "                baseline=None, # Baseline value for the monitored quantity\n",
    "                restore_best_weights=True) # restore weights epoch with best value\n",
    "\n",
    "model = nn_model()\n",
    "\n",
    "x_val_trans = full_pipeline_preprocessing.transform(x_val)\n",
    "\n",
    "# training\n",
    "logger.info(\"Training\")\n",
    "# fit model on train set\n",
    "history = model.fit(new_data, y_train_bal,\n",
    "                    epochs=100,\n",
    "                    verbose=1,\n",
    "                    #batch_size=512,\n",
    "                    validation_data=(x_val_trans, y_val ),\n",
    "                    callbacks=[early_stopping]\n",
    "                    )\n"
   ]
  },
  {
   "cell_type": "markdown",
   "metadata": {
    "id": "G_mfmk0Mdf09"
   },
   "source": [
    "\n",
    "\n",
    "---\n",
    "\n"
   ]
  },
  {
   "cell_type": "code",
   "execution_count": 37,
   "metadata": {
    "colab": {
     "base_uri": "https://localhost:8080/"
    },
    "executionInfo": {
     "elapsed": 21,
     "status": "ok",
     "timestamp": 1657736579429,
     "user": {
      "displayName": "Francisval Guedes",
      "userId": "04914963643323114232"
     },
     "user_tz": 180
    },
    "id": "IzCs0mlbdiNs",
    "outputId": "36e8ec05-3ade-4f1a-92ef-3388d33c5be4"
   },
   "outputs": [
    {
     "name": "stderr",
     "output_type": "stream",
     "text": [
      "14-07-2022 11:04:30 Infering\n"
     ]
    },
    {
     "name": "stdout",
     "output_type": "stream",
     "text": [
      "198/198 [==============================] - 0s 421us/step\n"
     ]
    }
   ],
   "source": [
    "# predict\n",
    "logger.info(\"Infering\")\n",
    "predict = model.predict(x_val_trans)"
   ]
  },
  {
   "cell_type": "code",
   "execution_count": 38,
   "metadata": {
    "colab": {
     "base_uri": "https://localhost:8080/"
    },
    "executionInfo": {
     "elapsed": 14,
     "status": "ok",
     "timestamp": 1657736579429,
     "user": {
      "displayName": "Francisval Guedes",
      "userId": "04914963643323114232"
     },
     "user_tz": 180
    },
    "id": "LzocIsfv2bP1",
    "outputId": "718072f0-6a01-4b0e-d58e-22224412df48"
   },
   "outputs": [
    {
     "name": "stderr",
     "output_type": "stream",
     "text": [
      "14-07-2022 11:04:31 Evaluation metrics\n",
      "C:\\Users\\franc\\.conda\\envs\\colab2deploy\\lib\\site-packages\\sklearn\\preprocessing\\_label.py:133: DataConversionWarning: A column-vector y was passed when a 1d array was expected. Please change the shape of y to (n_samples, ), for example using ravel().\n",
      "  y = column_or_1d(y, warn=True)\n",
      "14-07-2022 11:04:31 Accuracy: 0.8045813586097946\n",
      "14-07-2022 11:04:31 Precision: 0.3551020408163265\n",
      "14-07-2022 11:04:31 Recall: 0.822972972972973\n",
      "14-07-2022 11:04:31 F1: 0.4961303462321792\n",
      "14-07-2022 11:04:31 G-Mean: 0.8124931056056258\n"
     ]
    }
   ],
   "source": [
    "# Evaluation Metrics\n",
    "y_pred = np.rint(predict)\n",
    "\n",
    "logger.info(\"Evaluation metrics\")\n",
    "fbeta = fbeta_score(y_val, y_pred, beta=1, zero_division=1)\n",
    "precision = precision_score(y_val, y_pred, zero_division=1)\n",
    "recall = recall_score(y_val, y_pred, zero_division=1)\n",
    "acc = accuracy_score(y_val, y_pred)\n",
    "g_mean = geometric_mean_score(y_val, y_pred)\n",
    "\n",
    "\n",
    "logger.info(\"Accuracy: {}\".format(acc))\n",
    "logger.info(\"Precision: {}\".format(precision))\n",
    "logger.info(\"Recall: {}\".format(recall))\n",
    "logger.info(\"F1: {}\".format(fbeta))\n",
    "logger.info(\"G-Mean: {}\".format(g_mean))"
   ]
  },
  {
   "cell_type": "code",
   "execution_count": 39,
   "metadata": {
    "executionInfo": {
     "elapsed": 13,
     "status": "ok",
     "timestamp": 1657736579430,
     "user": {
      "displayName": "Francisval Guedes",
      "userId": "04914963643323114232"
     },
     "user_tz": 180
    },
    "id": "IgIXnahHea1y"
   },
   "outputs": [],
   "source": [
    "# evaluate model on test set\n",
    "# _, test_acc = model.evaluate(test_x, test_y, verbose=0)"
   ]
  },
  {
   "cell_type": "code",
   "execution_count": 40,
   "metadata": {},
   "outputs": [
    {
     "name": "stdout",
     "output_type": "stream",
     "text": [
      "Model: \"sequential\"\n",
      "_________________________________________________________________\n",
      " Layer (type)                Output Shape              Param #   \n",
      "=================================================================\n",
      " dense (Dense)               (None, 120)               3960      \n",
      "                                                                 \n",
      " dense_1 (Dense)             (None, 60)                7260      \n",
      "                                                                 \n",
      " dense_2 (Dense)             (None, 1)                 61        \n",
      "                                                                 \n",
      "=================================================================\n",
      "Total params: 11,281\n",
      "Trainable params: 11,281\n",
      "Non-trainable params: 0\n",
      "_________________________________________________________________\n"
     ]
    }
   ],
   "source": [
    "model.summary() # mostra modelo"
   ]
  },
  {
   "cell_type": "code",
   "execution_count": 41,
   "metadata": {
    "executionInfo": {
     "elapsed": 10,
     "status": "aborted",
     "timestamp": 1657736579430,
     "user": {
      "displayName": "Francisval Guedes",
      "userId": "04914963643323114232"
     },
     "user_tz": 180
    },
    "id": "_WMHyXTJU3Yq"
   },
   "outputs": [
    {
     "ename": "NameError",
     "evalue": "name 'clf' is not defined",
     "output_type": "error",
     "traceback": [
      "\u001b[1;31m---------------------------------------------------------------------------\u001b[0m",
      "\u001b[1;31mNameError\u001b[0m                                 Traceback (most recent call last)",
      "Input \u001b[1;32mIn [41]\u001b[0m, in \u001b[0;36m<cell line: 1>\u001b[1;34m()\u001b[0m\n\u001b[1;32m----> 1\u001b[0m \u001b[43mclf\u001b[49m\u001b[38;5;241m.\u001b[39mget_params()\u001b[38;5;241m.\u001b[39mkeys()\n",
      "\u001b[1;31mNameError\u001b[0m: name 'clf' is not defined"
     ]
    }
   ],
   "source": [
    "clf.get_params().keys()"
   ]
  },
  {
   "cell_type": "code",
   "execution_count": null,
   "metadata": {
    "executionInfo": {
     "elapsed": 10,
     "status": "aborted",
     "timestamp": 1657736579430,
     "user": {
      "displayName": "Francisval Guedes",
      "userId": "04914963643323114232"
     },
     "user_tz": 180
    },
    "id": "QeYH8Y5aI9cI"
   },
   "outputs": [],
   "source": [
    "print(predict)"
   ]
  },
  {
   "cell_type": "code",
   "execution_count": null,
   "metadata": {
    "executionInfo": {
     "elapsed": 10,
     "status": "aborted",
     "timestamp": 1657736579430,
     "user": {
      "displayName": "Francisval Guedes",
      "userId": "04914963643323114232"
     },
     "user_tz": 180
    },
    "id": "0gdM6ylxeGnQ"
   },
   "outputs": [],
   "source": [
    "dt6_score_train = pipe.score(x_train_bal, y_train_bal)\n",
    "print(\"Training score: \",dt6_score_train)\n",
    "dt6_score_test = pipe.score(x_val, y_val)\n",
    "print(\"Testing score: \",dt6_score_test)"
   ]
  },
  {
   "cell_type": "code",
   "execution_count": null,
   "metadata": {
    "executionInfo": {
     "elapsed": 9,
     "status": "aborted",
     "timestamp": 1657736579430,
     "user": {
      "displayName": "Francisval Guedes",
      "userId": "04914963643323114232"
     },
     "user_tz": 180
    },
    "id": "kw1kSZf37-yw"
   },
   "outputs": [],
   "source": [
    "run.summary[\"Acc\"] = acc\n",
    "run.summary[\"Precision\"] = precision\n",
    "run.summary[\"Recall\"] = recall\n",
    "run.summary[\"F1\"] = fbeta"
   ]
  },
  {
   "cell_type": "code",
   "execution_count": null,
   "metadata": {
    "executionInfo": {
     "elapsed": 10,
     "status": "aborted",
     "timestamp": 1657736579431,
     "user": {
      "displayName": "Francisval Guedes",
      "userId": "04914963643323114232"
     },
     "user_tz": 180
    },
    "id": "wcIO140lO-xc"
   },
   "outputs": [],
   "source": [
    "# predict bias\n",
    "logger.info(\"Infering Bias\")\n",
    "predict_bias = pipe.predict(x_train_bal)\n",
    "\n",
    "# Evaluation Metrics\n",
    "logger.info(\"Bias Evaluation metrics\")\n",
    "fbeta = fbeta_score(y_train_bal, predict_bias, beta=1, zero_division=1)\n",
    "precision = precision_score(y_train_bal, predict_bias, zero_division=1)\n",
    "recall = recall_score(y_train_bal, predict_bias, zero_division=1)\n",
    "acc = accuracy_score(y_train_bal, predict_bias)\n",
    "\n",
    "logger.info(\"Bias Accuracy: {}\".format(acc))\n",
    "logger.info(\"Bias Precision: {}\".format(precision))\n",
    "logger.info(\"Bias Recall: {}\".format(recall))\n",
    "logger.info(\"Bias F1: {}\".format(fbeta))"
   ]
  },
  {
   "cell_type": "code",
   "execution_count": null,
   "metadata": {
    "executionInfo": {
     "elapsed": 10,
     "status": "aborted",
     "timestamp": 1657736579431,
     "user": {
      "displayName": "Francisval Guedes",
      "userId": "04914963643323114232"
     },
     "user_tz": 180
    },
    "id": "RR7x-wAM94VS"
   },
   "outputs": [],
   "source": [
    "# Compare the accuracy, precision, recall with previous ones\n",
    "print(classification_report(y_val,predict))"
   ]
  },
  {
   "cell_type": "code",
   "execution_count": null,
   "metadata": {
    "executionInfo": {
     "elapsed": 10,
     "status": "aborted",
     "timestamp": 1657736579431,
     "user": {
      "displayName": "Francisval Guedes",
      "userId": "04914963643323114232"
     },
     "user_tz": 180
    },
    "id": "9f5FubtsA8yw"
   },
   "outputs": [],
   "source": [
    "fig_confusion_matrix, ax = plt.subplots(1,1,figsize=(7,4))\n",
    "ConfusionMatrixDisplay(confusion_matrix(predict,y_val,labels=[1,0]),\n",
    "                       display_labels=[\"yes\",\"no\"]).plot(values_format=\".0f\",ax=ax)\n",
    "\n",
    "ax.set_xlabel(\"True Label\")\n",
    "ax.set_ylabel(\"Predicted Label\")\n",
    "plt.show()"
   ]
  },
  {
   "cell_type": "code",
   "execution_count": null,
   "metadata": {
    "executionInfo": {
     "elapsed": 10,
     "status": "aborted",
     "timestamp": 1657736579431,
     "user": {
      "displayName": "Francisval Guedes",
      "userId": "04914963643323114232"
     },
     "user_tz": 180
    },
    "id": "7NODonon9kHO"
   },
   "outputs": [],
   "source": [
    "# Uploading figures\n",
    "logger.info(\"Uploading figures\")\n",
    "run.log(\n",
    "    {\n",
    "        \"confusion_matrix\": wandb.Image(fig_confusion_matrix),\n",
    "        # \"other_figure\": wandb.Image(other_fig)\n",
    "    }\n",
    ")"
   ]
  },
  {
   "cell_type": "code",
   "execution_count": null,
   "metadata": {
    "executionInfo": {
     "elapsed": 10,
     "status": "aborted",
     "timestamp": 1657736579431,
     "user": {
      "displayName": "Francisval Guedes",
      "userId": "04914963643323114232"
     },
     "user_tz": 180
    },
    "id": "k1XylahaKaCW"
   },
   "outputs": [],
   "source": [
    "# Feature importance\n",
    "pipe.get_params()[\"classifier\"].feature_importances_"
   ]
  },
  {
   "cell_type": "code",
   "execution_count": null,
   "metadata": {
    "executionInfo": {
     "elapsed": 10,
     "status": "aborted",
     "timestamp": 1657736579431,
     "user": {
      "displayName": "Francisval Guedes",
      "userId": "04914963643323114232"
     },
     "user_tz": 180
    },
    "id": "TCp9zEgGMJD0"
   },
   "outputs": [],
   "source": [
    "# Get categorical column names\n",
    "cat_names = pipe.named_steps['full_pipeline'].get_params()[\"cat_pipeline\"][3].get_feature_names_out().tolist()\n",
    "cat_names"
   ]
  },
  {
   "cell_type": "code",
   "execution_count": null,
   "metadata": {
    "executionInfo": {
     "elapsed": 11,
     "status": "aborted",
     "timestamp": 1657736579432,
     "user": {
      "displayName": "Francisval Guedes",
      "userId": "04914963643323114232"
     },
     "user_tz": 180
    },
    "id": "6Ob7S9N2L82x"
   },
   "outputs": [],
   "source": [
    "# Get numerical column names\n",
    "num_names = pipe.named_steps['full_pipeline'].get_params()[\"num_pipeline\"][2].get_feature_names_out()\n",
    "num_names"
   ]
  },
  {
   "cell_type": "code",
   "execution_count": null,
   "metadata": {
    "executionInfo": {
     "elapsed": 11,
     "status": "aborted",
     "timestamp": 1657736579432,
     "user": {
      "displayName": "Francisval Guedes",
      "userId": "04914963643323114232"
     },
     "user_tz": 180
    },
    "id": "USlqpKBUMV64"
   },
   "outputs": [],
   "source": [
    "# merge all column names together\n",
    "all_names = cat_names + num_names\n",
    "all_names"
   ]
  },
  {
   "cell_type": "code",
   "execution_count": null,
   "metadata": {
    "executionInfo": {
     "elapsed": 11,
     "status": "aborted",
     "timestamp": 1657736579432,
     "user": {
      "displayName": "Francisval Guedes",
      "userId": "04914963643323114232"
     },
     "user_tz": 180
    },
    "id": "wo0jKHj0FlIq"
   },
   "outputs": [],
   "source": [
    "# Visualize all classifier plots\n",
    "# For a complete documentation please see: https://docs.wandb.ai/guides/integrations/scikit\n",
    "wandb.sklearn.plot_classifier(pipe.get_params()[\"classifier\"],\n",
    "                              full_pipeline_preprocessing.transform(x_train_bal),\n",
    "                              full_pipeline_preprocessing.transform(x_val),\n",
    "                              y_train_bal,\n",
    "                              y_val,\n",
    "                              predict,\n",
    "                              pipe.predict_proba(x_val),\n",
    "                              [0,1],\n",
    "                              model_name='DT', feature_names=all_names)"
   ]
  },
  {
   "cell_type": "code",
   "execution_count": null,
   "metadata": {
    "executionInfo": {
     "elapsed": 11,
     "status": "aborted",
     "timestamp": 1657736579432,
     "user": {
      "displayName": "Francisval Guedes",
      "userId": "04914963643323114232"
     },
     "user_tz": 180
    },
    "id": "ZZa7WZFCD9KE"
   },
   "outputs": [],
   "source": [
    "# Visualize single plot\n",
    "# wandb.sklearn.plot_confusion_matrix(y_val, predict, [0,1])"
   ]
  },
  {
   "cell_type": "code",
   "execution_count": null,
   "metadata": {
    "executionInfo": {
     "elapsed": 11,
     "status": "aborted",
     "timestamp": 1657736579432,
     "user": {
      "displayName": "Francisval Guedes",
      "userId": "04914963643323114232"
     },
     "user_tz": 180
    },
    "id": "cd9LLU0sFw5Q"
   },
   "outputs": [],
   "source": [
    "# Catch up the class proportions between train and validation\n",
    "# wandb.sklearn.plot_class_proportions(y_train_bal, y_val, [0,1])"
   ]
  },
  {
   "cell_type": "code",
   "execution_count": null,
   "metadata": {
    "executionInfo": {
     "elapsed": 11,
     "status": "aborted",
     "timestamp": 1657736579432,
     "user": {
      "displayName": "Francisval Guedes",
      "userId": "04914963643323114232"
     },
     "user_tz": 180
    },
    "id": "Wd16dY-3Mn2e"
   },
   "outputs": [],
   "source": [
    "# Plot the importance of columns\n",
    "# wandb.sklearn.plot_feature_importances(pipe.get_params()[\"classifier\"],all_names)"
   ]
  },
  {
   "cell_type": "code",
   "execution_count": null,
   "metadata": {
    "executionInfo": {
     "elapsed": 11,
     "status": "aborted",
     "timestamp": 1657736579432,
     "user": {
      "displayName": "Francisval Guedes",
      "userId": "04914963643323114232"
     },
     "user_tz": 180
    },
    "id": "CGX5BdLpMwKw"
   },
   "outputs": [],
   "source": [
    "# Plot a brief summary of the weighted avg results (recall, precision, f1, acc)\n",
    "# wandb.sklearn.plot_summary_metrics(pipe.get_params()[\"classifier\"],\n",
    "#                                    full_pipeline_preprocessing.transform(x_train_bal),\n",
    "#                                    y_train_bal,\n",
    "#                                    full_pipeline_preprocessing.transform(x_val),\n",
    "#                                    y_val)"
   ]
  },
  {
   "cell_type": "code",
   "execution_count": null,
   "metadata": {
    "executionInfo": {
     "elapsed": 12,
     "status": "aborted",
     "timestamp": 1657736579433,
     "user": {
      "displayName": "Francisval Guedes",
      "userId": "04914963643323114232"
     },
     "user_tz": 180
    },
    "id": "D7Sl-7TbOZqD"
   },
   "outputs": [],
   "source": [
    "# ROC curve\n",
    "# predict_proba = pipe.predict_proba(x_val)\n",
    "# wandb.sklearn.plot_roc(y_val, predict_proba, [0,1])"
   ]
  },
  {
   "cell_type": "code",
   "execution_count": null,
   "metadata": {
    "executionInfo": {
     "elapsed": 12,
     "status": "aborted",
     "timestamp": 1657736579433,
     "user": {
      "displayName": "Francisval Guedes",
      "userId": "04914963643323114232"
     },
     "user_tz": 180
    },
    "id": "v7WQb9yaReCA"
   },
   "outputs": [],
   "source": [
    "# close the current run before to execute the next section\n",
    "run.finish()"
   ]
  },
  {
   "cell_type": "markdown",
   "metadata": {
    "id": "G8tKLeBIa44E"
   },
   "source": [
    "## 1.6 Hyperparameter Tuning"
   ]
  },
  {
   "cell_type": "code",
   "execution_count": null,
   "metadata": {
    "executionInfo": {
     "elapsed": 12,
     "status": "aborted",
     "timestamp": 1657736579433,
     "user": {
      "displayName": "Francisval Guedes",
      "userId": "04914963643323114232"
     },
     "user_tz": 180
    },
    "id": "eBVoapcIkc6X"
   },
   "outputs": [],
   "source": [
    "# To see all parameters of a specific step of the pipeline\n",
    "# pipe.named_steps['classifier'].get_params() #or\n",
    "# pipe.named_steps['full_pipeline'].get_params()"
   ]
  },
  {
   "cell_type": "code",
   "execution_count": null,
   "metadata": {
    "executionInfo": {
     "elapsed": 12,
     "status": "aborted",
     "timestamp": 1657736579433,
     "user": {
      "displayName": "Francisval Guedes",
      "userId": "04914963643323114232"
     },
     "user_tz": 180
    },
    "id": "jPy291-mwumB"
   },
   "outputs": [],
   "source": [
    "# global seed\n",
    "seed = 41"
   ]
  },
  {
   "cell_type": "code",
   "execution_count": null,
   "metadata": {
    "executionInfo": {
     "elapsed": 12,
     "status": "aborted",
     "timestamp": 1657736579433,
     "user": {
      "displayName": "Francisval Guedes",
      "userId": "04914963643323114232"
     },
     "user_tz": 180
    },
    "id": "fMuG1XSTnXVk"
   },
   "outputs": [],
   "source": [
    "sweep_config = {\n",
    "    # try grid or random\n",
    "    \"method\": \"random\",\n",
    "    \"metric\": {\n",
    "        \"name\": \"Accuracy\",\n",
    "        \"goal\": \"maximize\"\n",
    "        },\n",
    "    \"parameters\": {\n",
    "        \"criterion\": {\n",
    "            \"values\": [\"gini\",\"entropy\"]\n",
    "            },\n",
    "        \"splitter\": {\n",
    "            \"values\": [\"random\",\"best\"]\n",
    "            },\n",
    "        \"max_depth\": {\n",
    "            \"values\": [5, 7, 9]\n",
    "            },\n",
    "        \"model\": {\n",
    "            \"values\": [0,1,2]\n",
    "        },\n",
    "        \"random_state\": {\n",
    "            \"values\": [seed]\n",
    "        }\n",
    "    }\n",
    "}\n",
    "\n",
    "sweep_id = wandb.sweep(sweep_config, project=\"bank_mlp\", entity=\"mlops_ivan\")"
   ]
  },
  {
   "cell_type": "code",
   "execution_count": null,
   "metadata": {
    "executionInfo": {
     "elapsed": 12,
     "status": "aborted",
     "timestamp": 1657736579433,
     "user": {
      "displayName": "Francisval Guedes",
      "userId": "04914963643323114232"
     },
     "user_tz": 180
    },
    "id": "uvnUejepa_FY"
   },
   "outputs": [],
   "source": [
    "def train():\n",
    "    with wandb.init() as run:\n",
    "\n",
    "        # The full pipeline \n",
    "        pipe = Pipeline(steps = [('full_pipeline', full_pipeline_preprocessing),\n",
    "                                    (\"classifier\",DecisionTreeClassifier())\n",
    "                                    ]\n",
    "                        )\n",
    "\n",
    "        # update the parameters of the pipeline that we would like to tuning\n",
    "        pipe.set_params(**{\"full_pipeline__num_pipeline__num_transformer__model\": run.config.model})\n",
    "        pipe.set_params(**{\"classifier__criterion\": run.config.criterion})\n",
    "        pipe.set_params(**{\"classifier__splitter\": run.config.splitter})\n",
    "        pipe.set_params(**{\"classifier__max_depth\": run.config.max_depth})\n",
    "        pipe.set_params(**{\"classifier__random_state\": run.config.random_state})\n",
    "\n",
    "        # training\n",
    "        logger.info(\"Training\")\n",
    "        pipe.fit(x_train_bal, y_train_bal)\n",
    "\n",
    "        # predict\n",
    "        logger.info(\"Infering\")\n",
    "        predict = pipe.predict(x_val)\n",
    "\n",
    "        # Evaluation Metrics\n",
    "        logger.info(\"Evaluation metrics\")\n",
    "        fbeta = fbeta_score(y_val, predict, beta=1, zero_division=1)\n",
    "        precision = precision_score(y_val, predict, zero_division=1)\n",
    "        recall = recall_score(y_val, predict, zero_division=1)\n",
    "        acc = accuracy_score(y_val, predict)\n",
    "\n",
    "        logger.info(\"Accuracy: {}\".format(acc))\n",
    "        logger.info(\"Precision: {}\".format(precision))\n",
    "        logger.info(\"Recall: {}\".format(recall))\n",
    "        logger.info(\"F1: {}\".format(fbeta))\n",
    "\n",
    "        run.summary[\"Accuracy\"] = acc\n",
    "        run.summary[\"Precision\"] = precision\n",
    "        run.summary[\"Recall\"] = recall\n",
    "        run.summary[\"F1\"] = fbeta"
   ]
  },
  {
   "cell_type": "code",
   "execution_count": null,
   "metadata": {
    "executionInfo": {
     "elapsed": 13,
     "status": "aborted",
     "timestamp": 1657736579434,
     "user": {
      "displayName": "Francisval Guedes",
      "userId": "04914963643323114232"
     },
     "user_tz": 180
    },
    "id": "W1hb9Y4ncZel"
   },
   "outputs": [],
   "source": [
    "wandb.agent(sweep_id, train, count=24)"
   ]
  },
  {
   "cell_type": "markdown",
   "metadata": {
    "id": "HKRubLTMopvR"
   },
   "source": [
    "## 1.7 Configure and train the best model"
   ]
  },
  {
   "cell_type": "code",
   "execution_count": null,
   "metadata": {
    "executionInfo": {
     "elapsed": 13,
     "status": "aborted",
     "timestamp": 1657736579434,
     "user": {
      "displayName": "Francisval Guedes",
      "userId": "04914963643323114232"
     },
     "user_tz": 180
    },
    "id": "IGYp599tSSfO"
   },
   "outputs": [],
   "source": [
    "# Note that a new run is yet synced to last sweep run\n",
    "# Just to check\n",
    "# run = wandb.init()"
   ]
  },
  {
   "cell_type": "markdown",
   "metadata": {
    "id": "WlDpHMw8SBJ5"
   },
   "source": [
    "<font color=\"red\">Important</font> to restart the colab to unlink a new experiment (run) with the last ```sweep``` experiment. \n",
    "\n",
    "```\n",
    "Runtime >> Factory reset runtime\n",
    "```\n",
    "> Re-run all cells except for: ```1.4.3```, ```1.4.4```, ```1.5``` and ```1.6```. "
   ]
  },
  {
   "cell_type": "code",
   "execution_count": null,
   "metadata": {
    "colab": {
     "base_uri": "https://localhost:8080/",
     "height": 69
    },
    "executionInfo": {
     "elapsed": 2285,
     "status": "ok",
     "timestamp": 1657738018028,
     "user": {
      "displayName": "Francisval Guedes",
      "userId": "04914963643323114232"
     },
     "user_tz": 180
    },
    "id": "UV3uATIHHxsR",
    "outputId": "e58c5850-fa61-401c-ce73-43298da5735c"
   },
   "outputs": [],
   "source": [
    "# initiate the wandb project\n",
    "run = wandb.init(project=\"bank_mlp\", entity=\"mlops_ivan\",job_type=\"train\")"
   ]
  },
  {
   "cell_type": "code",
   "execution_count": null,
   "metadata": {
    "executionInfo": {
     "elapsed": 13,
     "status": "aborted",
     "timestamp": 1657736579434,
     "user": {
      "displayName": "Francisval Guedes",
      "userId": "04914963643323114232"
     },
     "user_tz": 180
    },
    "id": "suQFb9M5HM1t"
   },
   "outputs": [],
   "source": [
    "# The full pipeline \n",
    "pipe = Pipeline(steps = [('full_pipeline', full_pipeline_preprocessing),\n",
    "                         (\"classifier\",DecisionTreeClassifier())\n",
    "                         ]\n",
    "                )\n",
    "\n",
    "# update the parameters of the pipeline that we would like to tuning\n",
    "# pipe.set_params(**{\"full_pipeline__num_pipeline__num_transformer__model\": 1})\n",
    "# pipe.set_params(**{\"classifier__criterion\": 'entropy'})\n",
    "# pipe.set_params(**{\"classifier__splitter\": 'random'})\n",
    "# pipe.set_params(**{\"classifier__max_depth\": 6})\n",
    "# pipe.set_params(**{\"classifier__random_state\": 41})\n",
    "\n",
    "pipe.set_params(**{\"full_pipeline__num_pipeline__num_transformer__model\": 2})\n",
    "pipe.set_params(**{\"classifier__criterion\": 'gini'})\n",
    "pipe.set_params(**{\"classifier__splitter\": 'best'})\n",
    "pipe.set_params(**{\"classifier__max_depth\": 6})\n",
    "pipe.set_params(**{\"classifier__class_weight\": {0:1.0, 1:6.0}})\n",
    "pipe.set_params(**{\"classifier__random_state\": 41})\n",
    "\n",
    "\n",
    "\n",
    "# training\n",
    "logger.info(\"Training\")\n",
    "pipe.fit(x_train_bal, y_train_bal)\n",
    "\n",
    "# predict\n",
    "logger.info(\"Infering\")\n",
    "predict = pipe.predict(x_val)\n",
    "\n",
    "# Evaluation Metrics\n",
    "logger.info(\"Evaluation metrics\")\n",
    "fbeta = fbeta_score(y_val, predict, beta=1, zero_division=1)\n",
    "precision = precision_score(y_val, predict, zero_division=1)\n",
    "recall = recall_score(y_val, predict, zero_division=1)\n",
    "acc = accuracy_score(y_val, predict)\n",
    "\n",
    "logger.info(\"Accuracy: {}\".format(acc))\n",
    "logger.info(\"Precision: {}\".format(precision))\n",
    "logger.info(\"Recall: {}\".format(recall))\n",
    "logger.info(\"F1: {}\".format(fbeta))\n",
    "\n",
    "run.summary[\"Acc\"] = acc\n",
    "run.summary[\"Precision\"] = precision\n",
    "run.summary[\"Recall\"] = recall\n",
    "run.summary[\"F1\"] = fbeta"
   ]
  },
  {
   "cell_type": "code",
   "execution_count": null,
   "metadata": {
    "executionInfo": {
     "elapsed": 13,
     "status": "aborted",
     "timestamp": 1657736579434,
     "user": {
      "displayName": "Francisval Guedes",
      "userId": "04914963643323114232"
     },
     "user_tz": 180
    },
    "id": "CD_vARrbIXv9"
   },
   "outputs": [],
   "source": [
    "# Get categorical column names\n",
    "cat_names = pipe.named_steps['full_pipeline'].get_params()[\"cat_pipeline\"][3].get_feature_names_out().tolist()\n",
    "cat_names"
   ]
  },
  {
   "cell_type": "code",
   "execution_count": null,
   "metadata": {
    "executionInfo": {
     "elapsed": 13,
     "status": "aborted",
     "timestamp": 1657736579434,
     "user": {
      "displayName": "Francisval Guedes",
      "userId": "04914963643323114232"
     },
     "user_tz": 180
    },
    "id": "g1SkdIXBIXv-"
   },
   "outputs": [],
   "source": [
    "# Get numerical column names\n",
    "num_names = pipe.named_steps['full_pipeline'].get_params()[\"num_pipeline\"][2].get_feature_names_out()\n",
    "num_names"
   ]
  },
  {
   "cell_type": "code",
   "execution_count": null,
   "metadata": {
    "executionInfo": {
     "elapsed": 12,
     "status": "aborted",
     "timestamp": 1657736579434,
     "user": {
      "displayName": "Francisval Guedes",
      "userId": "04914963643323114232"
     },
     "user_tz": 180
    },
    "id": "PYhk1nW4IXv-"
   },
   "outputs": [],
   "source": [
    "# merge all column names together\n",
    "all_names = cat_names + num_names\n",
    "all_names"
   ]
  },
  {
   "cell_type": "code",
   "execution_count": null,
   "metadata": {
    "executionInfo": {
     "elapsed": 13,
     "status": "aborted",
     "timestamp": 1657736579435,
     "user": {
      "displayName": "Francisval Guedes",
      "userId": "04914963643323114232"
     },
     "user_tz": 180
    },
    "id": "nJwRFzuaIXv-"
   },
   "outputs": [],
   "source": [
    "# Visualize all classifier plots\n",
    "# For a complete documentation please see: https://docs.wandb.ai/guides/integrations/scikit\n",
    "wandb.sklearn.plot_classifier(pipe.get_params()[\"classifier\"],\n",
    "                              full_pipeline_preprocessing.transform(x_train_bal),\n",
    "                              full_pipeline_preprocessing.transform(x_val),\n",
    "                              y_train_bal,\n",
    "                              y_val,\n",
    "                              predict,\n",
    "                              pipe.predict_proba(x_val),\n",
    "                              [0,1],\n",
    "                              model_name='BestModel', feature_names=all_names)"
   ]
  },
  {
   "cell_type": "markdown",
   "metadata": {
    "id": "zdJlBFpQy60F"
   },
   "source": [
    "## 1.8 Export the best model"
   ]
  },
  {
   "cell_type": "code",
   "execution_count": null,
   "metadata": {},
   "outputs": [],
   "source": [
    "model.evaluate(testX, testY_one_hot)[1]\n",
    "\n",
    "plt.plot(hist.history['accuracy'])\n",
    "plt.plot(hist.history['val_accuracy'])\n",
    "plt.title('Model Accuracy')\n",
    "plt.xlabel('Epoch')\n",
    "plt.ylabel('Accuracy')\n",
    "plt.legend(['Train', 'Val'], loc = 'upper left')"
   ]
  },
  {
   "cell_type": "code",
   "execution_count": null,
   "metadata": {},
   "outputs": [],
   "source": [
    "# pipe = Pipeline(steps =  [\n",
    "#                          ('full_pipeline', full_pipeline_preprocessing),\n",
    "#                          (\"classifier\", model)\n",
    "#                          ])"
   ]
  },
  {
   "cell_type": "code",
   "execution_count": null,
   "metadata": {
    "executionInfo": {
     "elapsed": 333,
     "status": "ok",
     "timestamp": 1657737953630,
     "user": {
      "displayName": "Francisval Guedes",
      "userId": "04914963643323114232"
     },
     "user_tz": 180
    },
    "id": "XzsrUuq84XrI"
   },
   "outputs": [],
   "source": [
    "pipe = full_pipeline_preprocessing"
   ]
  },
  {
   "cell_type": "code",
   "execution_count": null,
   "metadata": {
    "executionInfo": {
     "elapsed": 357,
     "status": "ok",
     "timestamp": 1657738231399,
     "user": {
      "displayName": "Francisval Guedes",
      "userId": "04914963643323114232"
     },
     "user_tz": 180
    },
    "id": "-5KDt6Pu0Xo8"
   },
   "outputs": [],
   "source": [
    "# types and names of the artifacts\n",
    "artifact_type = \"inference_artifact\"\n",
    "artifact_encoder = \"target_encoder\"\n",
    "artifact_model = \"model_export\"\n",
    "artifact_keras_model = \"keras_model_export\""
   ]
  },
  {
   "cell_type": "code",
   "execution_count": null,
   "metadata": {
    "colab": {
     "base_uri": "https://localhost:8080/"
    },
    "executionInfo": {
     "elapsed": 792,
     "status": "ok",
     "timestamp": 1657738233493,
     "user": {
      "displayName": "Francisval Guedes",
      "userId": "04914963643323114232"
     },
     "user_tz": 180
    },
    "id": "BEIC9zC55mP5",
    "outputId": "0bff3ce2-2b1c-4c76-be66-e3ecda4076ed"
   },
   "outputs": [],
   "source": [
    "logger.info(\"Dumping the artifacts to disk\")\n",
    "# Save the pipiline preprocessing using joblib\n",
    "joblib.dump(pipe, artifact_model)\n",
    "\n",
    "# Save the target encoder using joblib\n",
    "joblib.dump(le, artifact_encoder)"
   ]
  },
  {
   "cell_type": "code",
   "execution_count": null,
   "metadata": {
    "colab": {
     "base_uri": "https://localhost:8080/"
    },
    "executionInfo": {
     "elapsed": 310,
     "status": "ok",
     "timestamp": 1657738238842,
     "user": {
      "displayName": "Francisval Guedes",
      "userId": "04914963643323114232"
     },
     "user_tz": 180
    },
    "id": "5ncI2WnK5iZ9",
    "outputId": "15fd5f27-3dd0-4b23-85e7-1b308a34acac"
   },
   "outputs": [],
   "source": [
    "# Model artifact\n",
    "artifact = wandb.Artifact(artifact_model,\n",
    "                          type=artifact_type,\n",
    "                          description=\"A full pipeline composed of a Preprocessing Stage and MLP bank marketing model\"\n",
    "                          )\n",
    "\n",
    "logger.info(\"Logging model artifact\")\n",
    "artifact.add_file(artifact_model)\n",
    "run.log_artifact(artifact)"
   ]
  },
  {
   "cell_type": "code",
   "execution_count": null,
   "metadata": {
    "colab": {
     "base_uri": "https://localhost:8080/"
    },
    "executionInfo": {
     "elapsed": 339,
     "status": "ok",
     "timestamp": 1657738241247,
     "user": {
      "displayName": "Francisval Guedes",
      "userId": "04914963643323114232"
     },
     "user_tz": 180
    },
    "id": "ydqNDU3BVm5t",
    "outputId": "2b0e2546-c70c-4f6c-bd13-37cd46aedd14"
   },
   "outputs": [],
   "source": [
    "# Target encoder artifact\n",
    "artifact = wandb.Artifact(artifact_encoder,\n",
    "                          type=artifact_type,\n",
    "                          description=\"The encoder used to encode the target variable\"\n",
    "                          )\n",
    "\n",
    "logger.info(\"Logging target enconder artifact\")\n",
    "artifact.add_file(artifact_encoder)\n",
    "run.log_artifact(artifact)"
   ]
  },
  {
   "cell_type": "code",
   "execution_count": null,
   "metadata": {
    "colab": {
     "base_uri": "https://localhost:8080/",
     "height": 86,
     "referenced_widgets": [
      "a5d9e93423674ff68e9c8d7609872715",
      "fdcd37fd6e3d4476a789af8828ea0f31",
      "ca76e02a005046a6916ae54d8b6ad682",
      "89d95f36c23c472bbcc2e6a81efe8b40",
      "f53b83dc83314f22aadfc6ff26a81ac4",
      "1868b187795b4f8bad6ef27ef6b07b51",
      "210a579b37e94002b27437292c14731b",
      "be70daac5cbc47a69d4e46f82069da8b"
     ]
    },
    "executionInfo": {
     "elapsed": 4860,
     "status": "ok",
     "timestamp": 1657738253102,
     "user": {
      "displayName": "Francisval Guedes",
      "userId": "04914963643323114232"
     },
     "user_tz": 180
    },
    "id": "6OqCWx5q7fqf",
    "outputId": "f384461a-93f3-4352-c97e-6f15d9f45206"
   },
   "outputs": [],
   "source": [
    "run.finish()"
   ]
  },
  {
   "cell_type": "code",
   "execution_count": null,
   "metadata": {
    "colab": {
     "base_uri": "https://localhost:8080/",
     "height": 69
    },
    "executionInfo": {
     "elapsed": 3031,
     "status": "ok",
     "timestamp": 1657739858298,
     "user": {
      "displayName": "Francisval Guedes",
      "userId": "04914963643323114232"
     },
     "user_tz": 180
    },
    "id": "iqXUXNhW_X-q",
    "outputId": "d1f18345-51f6-4e1d-df6a-182848eb0107"
   },
   "outputs": [],
   "source": [
    "run = wandb.init(project=\"bank_mlp\", entity=\"mlops_ivan\",job_type=\"save\")"
   ]
  },
  {
   "cell_type": "code",
   "execution_count": null,
   "metadata": {
    "executionInfo": {
     "elapsed": 321,
     "status": "ok",
     "timestamp": 1657739913640,
     "user": {
      "displayName": "Francisval Guedes",
      "userId": "04914963643323114232"
     },
     "user_tz": 180
    },
    "id": "KiULTyPO_i5T"
   },
   "outputs": [],
   "source": [
    "model.save(os.path.join(wandb.run.dir, \"model.h5\"))"
   ]
  },
  {
   "cell_type": "code",
   "execution_count": null,
   "metadata": {
    "colab": {
     "base_uri": "https://localhost:8080/",
     "height": 86,
     "referenced_widgets": [
      "486f4e79a7c64f65b306bb8be0d9e1d4",
      "3c8ceff39f20427a961c5c934abe60e0",
      "e3481b41b9d74ba4a4cfeaafffa9a241",
      "5bc3b8c0a99b460e8d54f4dc7064ffb9",
      "96a65b76f4a9420fafb551eb8433da96",
      "7a1f30008f5641049e51a3746a69146e",
      "28f5c40a23c548ceaa413c304df96670",
      "83f153a557aa4a02852683a167247c6b"
     ]
    },
    "executionInfo": {
     "elapsed": 3437,
     "status": "ok",
     "timestamp": 1657739966867,
     "user": {
      "displayName": "Francisval Guedes",
      "userId": "04914963643323114232"
     },
     "user_tz": 180
    },
    "id": "g8_dtnrz_qJ7",
    "outputId": "657508af-6820-4d5f-fcaa-dde03e2f09e2"
   },
   "outputs": [],
   "source": [
    "run.finish()"
   ]
  },
  {
   "cell_type": "code",
   "execution_count": null,
   "metadata": {
    "executionInfo": {
     "elapsed": 775,
     "status": "ok",
     "timestamp": 1657740323163,
     "user": {
      "displayName": "Francisval Guedes",
      "userId": "04914963643323114232"
     },
     "user_tz": 180
    },
    "id": "32Y5b74Q8go5"
   },
   "outputs": [],
   "source": [
    "import tensorflow as tf\n",
    "\n",
    "best_model = wandb.restore('model.h5', run_path=\"mlops_ivan/bank_mlp/akrq1ozh\")\n",
    "# restore the model for tf.keras\n",
    "model = tf.keras.models.load_model(best_model.name)"
   ]
  },
  {
   "cell_type": "code",
   "execution_count": null,
   "metadata": {
    "executionInfo": {
     "elapsed": 1915,
     "status": "ok",
     "timestamp": 1657740416040,
     "user": {
      "displayName": "Francisval Guedes",
      "userId": "04914963643323114232"
     },
     "user_tz": 180
    },
    "id": "TF31M4P1BgFG"
   },
   "outputs": [],
   "source": [
    "pred = model.predict(x_val_trans)"
   ]
  },
  {
   "cell_type": "code",
   "execution_count": null,
   "metadata": {
    "colab": {
     "base_uri": "https://localhost:8080/"
    },
    "executionInfo": {
     "elapsed": 308,
     "status": "ok",
     "timestamp": 1657740418155,
     "user": {
      "displayName": "Francisval Guedes",
      "userId": "04914963643323114232"
     },
     "user_tz": 180
    },
    "id": "H6qleLyCBysQ",
    "outputId": "4e5d9007-e880-4c99-e127-9b7a645d8487"
   },
   "outputs": [],
   "source": [
    "pred"
   ]
  },
  {
   "cell_type": "code",
   "execution_count": null,
   "metadata": {
    "executionInfo": {
     "elapsed": 1022,
     "status": "ok",
     "timestamp": 1657740475609,
     "user": {
      "displayName": "Francisval Guedes",
      "userId": "04914963643323114232"
     },
     "user_tz": 180
    },
    "id": "4vCGzu3FCAxa"
   },
   "outputs": [],
   "source": [
    "y_pred = np.rint(pred)\n"
   ]
  },
  {
   "cell_type": "code",
   "execution_count": null,
   "metadata": {
    "colab": {
     "base_uri": "https://localhost:8080/"
    },
    "executionInfo": {
     "elapsed": 297,
     "status": "ok",
     "timestamp": 1657740482363,
     "user": {
      "displayName": "Francisval Guedes",
      "userId": "04914963643323114232"
     },
     "user_tz": 180
    },
    "id": "-3xc-WKuCEHK",
    "outputId": "4e5a7720-8246-4d70-c98d-2f6e9620aacf"
   },
   "outputs": [],
   "source": [
    "y_pred"
   ]
  },
  {
   "cell_type": "markdown",
   "metadata": {
    "id": "8ueX2KClcICb"
   },
   "source": [
    "# 2.0 Test evaluation"
   ]
  },
  {
   "cell_type": "markdown",
   "metadata": {
    "id": "8N4nmtemhLLZ"
   },
   "source": [
    "## 2.1 Evaluation"
   ]
  },
  {
   "cell_type": "code",
   "execution_count": null,
   "metadata": {
    "id": "E-2z7Fq7cdbX"
   },
   "outputs": [],
   "source": [
    "# global variables\n",
    "\n",
    "# name of the artifact related to test dataset\n",
    "artifact_test_name = \"mlops_ivan/bank_mlp/test.csv:latest\"\n",
    "\n",
    "# name of the model artifact\n",
    "artifact_model_name =  \"mlops_ivan/bank_mlp/model_export:latest\"\n",
    "\n",
    "# name of the target encoder artifact\n",
    "artifact_encoder_name =  \"mlops_ivan/bank_mlp/target_encoder:latest\""
   ]
  },
  {
   "cell_type": "code",
   "execution_count": null,
   "metadata": {
    "id": "tOh7odFBdO88"
   },
   "outputs": [],
   "source": [
    "# configure logging\n",
    "logging.basicConfig(level=logging.INFO,\n",
    "                    format=\"%(asctime)s %(message)s\",\n",
    "                    datefmt='%d-%m-%Y %H:%M:%S')\n",
    "\n",
    "# reference for a logging obj\n",
    "logger = logging.getLogger()"
   ]
  },
  {
   "cell_type": "code",
   "execution_count": null,
   "metadata": {
    "colab": {
     "base_uri": "https://localhost:8080/",
     "height": 86
    },
    "executionInfo": {
     "elapsed": 9903,
     "status": "ok",
     "timestamp": 1654176581791,
     "user": {
      "displayName": "Francisval Guedes",
      "userId": "04914963643323114232"
     },
     "user_tz": 180
    },
    "id": "O177vAixdW9i",
    "outputId": "237b506b-ccc0-402f-aed1-1ed1d721d6de"
   },
   "outputs": [],
   "source": [
    "# initiate the wandb project\n",
    "run = wandb.init(project=\"bank_mlp\", entity=\"mlops_ivan\",job_type=\"test\")"
   ]
  },
  {
   "cell_type": "code",
   "execution_count": null,
   "metadata": {
    "colab": {
     "base_uri": "https://localhost:8080/"
    },
    "executionInfo": {
     "elapsed": 1410,
     "status": "ok",
     "timestamp": 1654176583188,
     "user": {
      "displayName": "Francisval Guedes",
      "userId": "04914963643323114232"
     },
     "user_tz": 180
    },
    "id": "siFQuqmvdiRO",
    "outputId": "2a2af317-86b8-4a55-d681-9c297bc97727"
   },
   "outputs": [],
   "source": [
    "logger.info(\"Downloading and reading test artifact\")\n",
    "test_data_path = run.use_artifact(artifact_test_name).file()\n",
    "df_test = pd.read_csv(test_data_path)\n",
    "\n",
    "# Extract the target from the features\n",
    "logger.info(\"Extracting target from dataframe\")\n",
    "x_test = df_test.copy()\n",
    "y_test = x_test.pop(\"y\")"
   ]
  },
  {
   "cell_type": "code",
   "execution_count": null,
   "metadata": {
    "colab": {
     "base_uri": "https://localhost:8080/",
     "height": 270
    },
    "executionInfo": {
     "elapsed": 36,
     "status": "ok",
     "timestamp": 1654176583190,
     "user": {
      "displayName": "Francisval Guedes",
      "userId": "04914963643323114232"
     },
     "user_tz": 180
    },
    "id": "pdXTWnBfdwbE",
    "outputId": "0890f984-4728-47ec-a447-4bbb1c794bdc"
   },
   "outputs": [],
   "source": [
    "# Takes a look at test set\n",
    "x_test.head()"
   ]
  },
  {
   "cell_type": "code",
   "execution_count": null,
   "metadata": {
    "colab": {
     "base_uri": "https://localhost:8080/"
    },
    "executionInfo": {
     "elapsed": 20,
     "status": "ok",
     "timestamp": 1654176583191,
     "user": {
      "displayName": "Francisval Guedes",
      "userId": "04914963643323114232"
     },
     "user_tz": 180
    },
    "id": "irBhj9UXdybG",
    "outputId": "2f9e608e-52e7-4800-cd28-78586df99b6d"
   },
   "outputs": [],
   "source": [
    "# Take a look at the target variable\n",
    "y_test.head()"
   ]
  },
  {
   "cell_type": "code",
   "execution_count": null,
   "metadata": {
    "colab": {
     "base_uri": "https://localhost:8080/"
    },
    "executionInfo": {
     "elapsed": 716,
     "status": "ok",
     "timestamp": 1654176583893,
     "user": {
      "displayName": "Francisval Guedes",
      "userId": "04914963643323114232"
     },
     "user_tz": 180
    },
    "id": "dwIVe_-GeBFz",
    "outputId": "bfe21552-6fb4-4156-80aa-b65f36c3fb8b"
   },
   "outputs": [],
   "source": [
    "# Extract the encoding of the target variable\n",
    "logger.info(\"Extracting the encoding of the target variable\")\n",
    "encoder_export_path = run.use_artifact(artifact_encoder_name).file()\n",
    "le = joblib.load(encoder_export_path)"
   ]
  },
  {
   "cell_type": "code",
   "execution_count": null,
   "metadata": {
    "colab": {
     "base_uri": "https://localhost:8080/"
    },
    "executionInfo": {
     "elapsed": 7,
     "status": "ok",
     "timestamp": 1654176584399,
     "user": {
      "displayName": "Francisval Guedes",
      "userId": "04914963643323114232"
     },
     "user_tz": 180
    },
    "id": "GtdxHiF7e8oJ",
    "outputId": "b85be367-0c40-4d04-94c0-9cbaa53d59fa"
   },
   "outputs": [],
   "source": [
    "# transform y_train\n",
    "y_test = le.transform(y_test)\n",
    "logger.info(\"Classes [0, 1]: {}\".format(le.inverse_transform([0, 1])))"
   ]
  },
  {
   "cell_type": "code",
   "execution_count": null,
   "metadata": {
    "colab": {
     "base_uri": "https://localhost:8080/"
    },
    "executionInfo": {
     "elapsed": 358,
     "status": "ok",
     "timestamp": 1654176590159,
     "user": {
      "displayName": "Francisval Guedes",
      "userId": "04914963643323114232"
     },
     "user_tz": 180
    },
    "id": "QRJ_dDWNfD0Z",
    "outputId": "b1af7064-8b54-42a8-fb52-da4bc2f0d165"
   },
   "outputs": [],
   "source": [
    "# target variable after the encoding\n",
    "y_test"
   ]
  },
  {
   "cell_type": "code",
   "execution_count": null,
   "metadata": {
    "colab": {
     "base_uri": "https://localhost:8080/"
    },
    "executionInfo": {
     "elapsed": 1162,
     "status": "ok",
     "timestamp": 1654176592942,
     "user": {
      "displayName": "Francisval Guedes",
      "userId": "04914963643323114232"
     },
     "user_tz": 180
    },
    "id": "hubXniw5fGc_",
    "outputId": "5d0ff6b3-b1ab-45fd-f343-939b6bbb0139"
   },
   "outputs": [],
   "source": [
    "# Download inference artifact\n",
    "logger.info(\"Downloading and load the exported model\")\n",
    "model_export_path = run.use_artifact(artifact_model_name).file()\n",
    "pipe = joblib.load(model_export_path)"
   ]
  },
  {
   "cell_type": "code",
   "execution_count": null,
   "metadata": {
    "colab": {
     "base_uri": "https://localhost:8080/"
    },
    "executionInfo": {
     "elapsed": 353,
     "status": "ok",
     "timestamp": 1654176594475,
     "user": {
      "displayName": "Francisval Guedes",
      "userId": "04914963643323114232"
     },
     "user_tz": 180
    },
    "id": "7AmX-6-Sf0v0",
    "outputId": "be5a583f-3566-4ae2-c6ad-ad400ee89ae3"
   },
   "outputs": [],
   "source": [
    "# predict\n",
    "logger.info(\"Infering\")\n",
    "predict = pipe.predict(x_test)\n",
    "\n",
    "# Evaluation Metrics\n",
    "logger.info(\"Test Evaluation metrics\")\n",
    "fbeta = fbeta_score(y_test, predict, beta=1, zero_division=1)\n",
    "precision = precision_score(y_test, predict, zero_division=1)\n",
    "recall = recall_score(y_test, predict, zero_division=1)\n",
    "acc = accuracy_score(y_test, predict)\n",
    "\n",
    "logger.info(\"Test Accuracy: {}\".format(acc))\n",
    "logger.info(\"Test Precision: {}\".format(precision))\n",
    "logger.info(\"Test Recall: {}\".format(recall))\n",
    "logger.info(\"Test F1: {}\".format(fbeta))\n",
    "\n",
    "run.summary[\"Acc\"] = acc\n",
    "run.summary[\"Precision\"] = precision\n",
    "run.summary[\"Recall\"] = recall\n",
    "run.summary[\"F1\"] = fbeta"
   ]
  },
  {
   "cell_type": "code",
   "execution_count": null,
   "metadata": {
    "colab": {
     "base_uri": "https://localhost:8080/"
    },
    "executionInfo": {
     "elapsed": 327,
     "status": "ok",
     "timestamp": 1654176597602,
     "user": {
      "displayName": "Francisval Guedes",
      "userId": "04914963643323114232"
     },
     "user_tz": 180
    },
    "id": "HRdA8Djahueu",
    "outputId": "89419fc7-7221-45ff-9b86-f660bf579253"
   },
   "outputs": [],
   "source": [
    "# Compare the accuracy, precision, recall with previous ones\n",
    "print(classification_report(y_test,predict))"
   ]
  },
  {
   "cell_type": "code",
   "execution_count": null,
   "metadata": {
    "colab": {
     "base_uri": "https://localhost:8080/",
     "height": 279
    },
    "executionInfo": {
     "elapsed": 393,
     "status": "ok",
     "timestamp": 1654176600624,
     "user": {
      "displayName": "Francisval Guedes",
      "userId": "04914963643323114232"
     },
     "user_tz": 180
    },
    "id": "DuM6sg3wh6k_",
    "outputId": "e73c1a38-486a-4ba0-ec9f-18ca0a8c696a"
   },
   "outputs": [],
   "source": [
    "fig_confusion_matrix, ax = plt.subplots(1,1,figsize=(7,4))\n",
    "ConfusionMatrixDisplay(confusion_matrix(predict,y_test,labels=[1,0]),\n",
    "                       display_labels=[\">50k\",\"<=50k\"]).plot(values_format=\".0f\",ax=ax)\n",
    "\n",
    "ax.set_xlabel(\"True Label\")\n",
    "ax.set_ylabel(\"Predicted Label\")\n",
    "plt.show()"
   ]
  },
  {
   "cell_type": "code",
   "execution_count": null,
   "metadata": {
    "colab": {
     "base_uri": "https://localhost:8080/"
    },
    "executionInfo": {
     "elapsed": 871,
     "status": "ok",
     "timestamp": 1654176604161,
     "user": {
      "displayName": "Francisval Guedes",
      "userId": "04914963643323114232"
     },
     "user_tz": 180
    },
    "id": "QXis7klgiEWG",
    "outputId": "6aeec34c-d76a-4abb-842e-48401ec60f9c"
   },
   "outputs": [],
   "source": [
    "# Uploading figures\n",
    "logger.info(\"Uploading figures\")\n",
    "run.log(\n",
    "    {\n",
    "        \"confusion_matrix\": wandb.Image(fig_confusion_matrix),\n",
    "        # \"other_figure\": wandb.Image(other_fig)\n",
    "    }\n",
    ")"
   ]
  },
  {
   "cell_type": "code",
   "execution_count": null,
   "metadata": {
    "colab": {
     "base_uri": "https://localhost:8080/",
     "height": 267,
     "referenced_widgets": [
      "24389a31fd734c998a89d21af95e5086",
      "43bc9936191a4d3e810df9a4aa71fac5",
      "fe4f1e99f7c1405693dc36a3ddce42f0",
      "7a496c4c535848cd8b41e803e6b5d852",
      "3aa10d07aeaf4ce890715743109a0ff8",
      "c028a748124a49fda568fc6d009b8fc6",
      "c407a183d3d14de9aec33df9586ab7d5",
      "47782dd05bd44ac6b0b6175e3c7f588e"
     ]
    },
    "executionInfo": {
     "elapsed": 5008,
     "status": "ok",
     "timestamp": 1654176611612,
     "user": {
      "displayName": "Francisval Guedes",
      "userId": "04914963643323114232"
     },
     "user_tz": 180
    },
    "id": "MFC4iWBmiTKe",
    "outputId": "f5038e77-cea4-4a30-dbe1-b57f3f5ccf42"
   },
   "outputs": [],
   "source": [
    "run.finish()"
   ]
  }
 ],
 "metadata": {
  "colab": {
   "collapsed_sections": [
    "BeMVUzr08AK8"
   ],
   "name": "train_test.ipynb",
   "provenance": [],
   "toc_visible": true
  },
  "kernelspec": {
   "display_name": "Python 3 (ipykernel)",
   "language": "python",
   "name": "python3"
  },
  "language_info": {
   "codemirror_mode": {
    "name": "ipython",
    "version": 3
   },
   "file_extension": ".py",
   "mimetype": "text/x-python",
   "name": "python",
   "nbconvert_exporter": "python",
   "pygments_lexer": "ipython3",
   "version": "3.8.13"
  },
  "vscode": {
   "interpreter": {
    "hash": "ffc680690a45633d759d79ef7e81723f02a0efa45c623327592d1e34162cedf1"
   }
  },
  "widgets": {
   "application/vnd.jupyter.widget-state+json": {
    "1868b187795b4f8bad6ef27ef6b07b51": {
     "model_module": "@jupyter-widgets/controls",
     "model_module_version": "1.5.0",
     "model_name": "DescriptionStyleModel",
     "state": {
      "_model_module": "@jupyter-widgets/controls",
      "_model_module_version": "1.5.0",
      "_model_name": "DescriptionStyleModel",
      "_view_count": null,
      "_view_module": "@jupyter-widgets/base",
      "_view_module_version": "1.2.0",
      "_view_name": "StyleView",
      "description_width": ""
     }
    },
    "210a579b37e94002b27437292c14731b": {
     "model_module": "@jupyter-widgets/base",
     "model_module_version": "1.2.0",
     "model_name": "LayoutModel",
     "state": {
      "_model_module": "@jupyter-widgets/base",
      "_model_module_version": "1.2.0",
      "_model_name": "LayoutModel",
      "_view_count": null,
      "_view_module": "@jupyter-widgets/base",
      "_view_module_version": "1.2.0",
      "_view_name": "LayoutView",
      "align_content": null,
      "align_items": null,
      "align_self": null,
      "border": null,
      "bottom": null,
      "display": null,
      "flex": null,
      "flex_flow": null,
      "grid_area": null,
      "grid_auto_columns": null,
      "grid_auto_flow": null,
      "grid_auto_rows": null,
      "grid_column": null,
      "grid_gap": null,
      "grid_row": null,
      "grid_template_areas": null,
      "grid_template_columns": null,
      "grid_template_rows": null,
      "height": null,
      "justify_content": null,
      "justify_items": null,
      "left": null,
      "margin": null,
      "max_height": null,
      "max_width": null,
      "min_height": null,
      "min_width": null,
      "object_fit": null,
      "object_position": null,
      "order": null,
      "overflow": null,
      "overflow_x": null,
      "overflow_y": null,
      "padding": null,
      "right": null,
      "top": null,
      "visibility": null,
      "width": null
     }
    },
    "28f5c40a23c548ceaa413c304df96670": {
     "model_module": "@jupyter-widgets/base",
     "model_module_version": "1.2.0",
     "model_name": "LayoutModel",
     "state": {
      "_model_module": "@jupyter-widgets/base",
      "_model_module_version": "1.2.0",
      "_model_name": "LayoutModel",
      "_view_count": null,
      "_view_module": "@jupyter-widgets/base",
      "_view_module_version": "1.2.0",
      "_view_name": "LayoutView",
      "align_content": null,
      "align_items": null,
      "align_self": null,
      "border": null,
      "bottom": null,
      "display": null,
      "flex": null,
      "flex_flow": null,
      "grid_area": null,
      "grid_auto_columns": null,
      "grid_auto_flow": null,
      "grid_auto_rows": null,
      "grid_column": null,
      "grid_gap": null,
      "grid_row": null,
      "grid_template_areas": null,
      "grid_template_columns": null,
      "grid_template_rows": null,
      "height": null,
      "justify_content": null,
      "justify_items": null,
      "left": null,
      "margin": null,
      "max_height": null,
      "max_width": null,
      "min_height": null,
      "min_width": null,
      "object_fit": null,
      "object_position": null,
      "order": null,
      "overflow": null,
      "overflow_x": null,
      "overflow_y": null,
      "padding": null,
      "right": null,
      "top": null,
      "visibility": null,
      "width": null
     }
    },
    "3c8ceff39f20427a961c5c934abe60e0": {
     "model_module": "@jupyter-widgets/controls",
     "model_module_version": "1.5.0",
     "model_name": "LabelModel",
     "state": {
      "_dom_classes": [],
      "_model_module": "@jupyter-widgets/controls",
      "_model_module_version": "1.5.0",
      "_model_name": "LabelModel",
      "_view_count": null,
      "_view_module": "@jupyter-widgets/controls",
      "_view_module_version": "1.5.0",
      "_view_name": "LabelView",
      "description": "",
      "description_tooltip": null,
      "layout": "IPY_MODEL_96a65b76f4a9420fafb551eb8433da96",
      "placeholder": "​",
      "style": "IPY_MODEL_7a1f30008f5641049e51a3746a69146e",
      "value": "0.168 MB of 0.168 MB uploaded (0.000 MB deduped)\r"
     }
    },
    "486f4e79a7c64f65b306bb8be0d9e1d4": {
     "model_module": "@jupyter-widgets/controls",
     "model_module_version": "1.5.0",
     "model_name": "VBoxModel",
     "state": {
      "_dom_classes": [],
      "_model_module": "@jupyter-widgets/controls",
      "_model_module_version": "1.5.0",
      "_model_name": "VBoxModel",
      "_view_count": null,
      "_view_module": "@jupyter-widgets/controls",
      "_view_module_version": "1.5.0",
      "_view_name": "VBoxView",
      "box_style": "",
      "children": [
       "IPY_MODEL_3c8ceff39f20427a961c5c934abe60e0",
       "IPY_MODEL_e3481b41b9d74ba4a4cfeaafffa9a241"
      ],
      "layout": "IPY_MODEL_5bc3b8c0a99b460e8d54f4dc7064ffb9"
     }
    },
    "5bc3b8c0a99b460e8d54f4dc7064ffb9": {
     "model_module": "@jupyter-widgets/base",
     "model_module_version": "1.2.0",
     "model_name": "LayoutModel",
     "state": {
      "_model_module": "@jupyter-widgets/base",
      "_model_module_version": "1.2.0",
      "_model_name": "LayoutModel",
      "_view_count": null,
      "_view_module": "@jupyter-widgets/base",
      "_view_module_version": "1.2.0",
      "_view_name": "LayoutView",
      "align_content": null,
      "align_items": null,
      "align_self": null,
      "border": null,
      "bottom": null,
      "display": null,
      "flex": null,
      "flex_flow": null,
      "grid_area": null,
      "grid_auto_columns": null,
      "grid_auto_flow": null,
      "grid_auto_rows": null,
      "grid_column": null,
      "grid_gap": null,
      "grid_row": null,
      "grid_template_areas": null,
      "grid_template_columns": null,
      "grid_template_rows": null,
      "height": null,
      "justify_content": null,
      "justify_items": null,
      "left": null,
      "margin": null,
      "max_height": null,
      "max_width": null,
      "min_height": null,
      "min_width": null,
      "object_fit": null,
      "object_position": null,
      "order": null,
      "overflow": null,
      "overflow_x": null,
      "overflow_y": null,
      "padding": null,
      "right": null,
      "top": null,
      "visibility": null,
      "width": null
     }
    },
    "7a1f30008f5641049e51a3746a69146e": {
     "model_module": "@jupyter-widgets/controls",
     "model_module_version": "1.5.0",
     "model_name": "DescriptionStyleModel",
     "state": {
      "_model_module": "@jupyter-widgets/controls",
      "_model_module_version": "1.5.0",
      "_model_name": "DescriptionStyleModel",
      "_view_count": null,
      "_view_module": "@jupyter-widgets/base",
      "_view_module_version": "1.2.0",
      "_view_name": "StyleView",
      "description_width": ""
     }
    },
    "83f153a557aa4a02852683a167247c6b": {
     "model_module": "@jupyter-widgets/controls",
     "model_module_version": "1.5.0",
     "model_name": "ProgressStyleModel",
     "state": {
      "_model_module": "@jupyter-widgets/controls",
      "_model_module_version": "1.5.0",
      "_model_name": "ProgressStyleModel",
      "_view_count": null,
      "_view_module": "@jupyter-widgets/base",
      "_view_module_version": "1.2.0",
      "_view_name": "StyleView",
      "bar_color": null,
      "description_width": ""
     }
    },
    "89d95f36c23c472bbcc2e6a81efe8b40": {
     "model_module": "@jupyter-widgets/base",
     "model_module_version": "1.2.0",
     "model_name": "LayoutModel",
     "state": {
      "_model_module": "@jupyter-widgets/base",
      "_model_module_version": "1.2.0",
      "_model_name": "LayoutModel",
      "_view_count": null,
      "_view_module": "@jupyter-widgets/base",
      "_view_module_version": "1.2.0",
      "_view_name": "LayoutView",
      "align_content": null,
      "align_items": null,
      "align_self": null,
      "border": null,
      "bottom": null,
      "display": null,
      "flex": null,
      "flex_flow": null,
      "grid_area": null,
      "grid_auto_columns": null,
      "grid_auto_flow": null,
      "grid_auto_rows": null,
      "grid_column": null,
      "grid_gap": null,
      "grid_row": null,
      "grid_template_areas": null,
      "grid_template_columns": null,
      "grid_template_rows": null,
      "height": null,
      "justify_content": null,
      "justify_items": null,
      "left": null,
      "margin": null,
      "max_height": null,
      "max_width": null,
      "min_height": null,
      "min_width": null,
      "object_fit": null,
      "object_position": null,
      "order": null,
      "overflow": null,
      "overflow_x": null,
      "overflow_y": null,
      "padding": null,
      "right": null,
      "top": null,
      "visibility": null,
      "width": null
     }
    },
    "96a65b76f4a9420fafb551eb8433da96": {
     "model_module": "@jupyter-widgets/base",
     "model_module_version": "1.2.0",
     "model_name": "LayoutModel",
     "state": {
      "_model_module": "@jupyter-widgets/base",
      "_model_module_version": "1.2.0",
      "_model_name": "LayoutModel",
      "_view_count": null,
      "_view_module": "@jupyter-widgets/base",
      "_view_module_version": "1.2.0",
      "_view_name": "LayoutView",
      "align_content": null,
      "align_items": null,
      "align_self": null,
      "border": null,
      "bottom": null,
      "display": null,
      "flex": null,
      "flex_flow": null,
      "grid_area": null,
      "grid_auto_columns": null,
      "grid_auto_flow": null,
      "grid_auto_rows": null,
      "grid_column": null,
      "grid_gap": null,
      "grid_row": null,
      "grid_template_areas": null,
      "grid_template_columns": null,
      "grid_template_rows": null,
      "height": null,
      "justify_content": null,
      "justify_items": null,
      "left": null,
      "margin": null,
      "max_height": null,
      "max_width": null,
      "min_height": null,
      "min_width": null,
      "object_fit": null,
      "object_position": null,
      "order": null,
      "overflow": null,
      "overflow_x": null,
      "overflow_y": null,
      "padding": null,
      "right": null,
      "top": null,
      "visibility": null,
      "width": null
     }
    },
    "a5d9e93423674ff68e9c8d7609872715": {
     "model_module": "@jupyter-widgets/controls",
     "model_module_version": "1.5.0",
     "model_name": "VBoxModel",
     "state": {
      "_dom_classes": [],
      "_model_module": "@jupyter-widgets/controls",
      "_model_module_version": "1.5.0",
      "_model_name": "VBoxModel",
      "_view_count": null,
      "_view_module": "@jupyter-widgets/controls",
      "_view_module_version": "1.5.0",
      "_view_name": "VBoxView",
      "box_style": "",
      "children": [
       "IPY_MODEL_fdcd37fd6e3d4476a789af8828ea0f31",
       "IPY_MODEL_ca76e02a005046a6916ae54d8b6ad682"
      ],
      "layout": "IPY_MODEL_89d95f36c23c472bbcc2e6a81efe8b40"
     }
    },
    "be70daac5cbc47a69d4e46f82069da8b": {
     "model_module": "@jupyter-widgets/controls",
     "model_module_version": "1.5.0",
     "model_name": "ProgressStyleModel",
     "state": {
      "_model_module": "@jupyter-widgets/controls",
      "_model_module_version": "1.5.0",
      "_model_name": "ProgressStyleModel",
      "_view_count": null,
      "_view_module": "@jupyter-widgets/base",
      "_view_module_version": "1.2.0",
      "_view_name": "StyleView",
      "bar_color": null,
      "description_width": ""
     }
    },
    "ca76e02a005046a6916ae54d8b6ad682": {
     "model_module": "@jupyter-widgets/controls",
     "model_module_version": "1.5.0",
     "model_name": "FloatProgressModel",
     "state": {
      "_dom_classes": [],
      "_model_module": "@jupyter-widgets/controls",
      "_model_module_version": "1.5.0",
      "_model_name": "FloatProgressModel",
      "_view_count": null,
      "_view_module": "@jupyter-widgets/controls",
      "_view_module_version": "1.5.0",
      "_view_name": "ProgressView",
      "bar_style": "",
      "description": "",
      "description_tooltip": null,
      "layout": "IPY_MODEL_210a579b37e94002b27437292c14731b",
      "max": 1,
      "min": 0,
      "orientation": "horizontal",
      "style": "IPY_MODEL_be70daac5cbc47a69d4e46f82069da8b",
      "value": 1
     }
    },
    "e3481b41b9d74ba4a4cfeaafffa9a241": {
     "model_module": "@jupyter-widgets/controls",
     "model_module_version": "1.5.0",
     "model_name": "FloatProgressModel",
     "state": {
      "_dom_classes": [],
      "_model_module": "@jupyter-widgets/controls",
      "_model_module_version": "1.5.0",
      "_model_name": "FloatProgressModel",
      "_view_count": null,
      "_view_module": "@jupyter-widgets/controls",
      "_view_module_version": "1.5.0",
      "_view_name": "ProgressView",
      "bar_style": "",
      "description": "",
      "description_tooltip": null,
      "layout": "IPY_MODEL_28f5c40a23c548ceaa413c304df96670",
      "max": 1,
      "min": 0,
      "orientation": "horizontal",
      "style": "IPY_MODEL_83f153a557aa4a02852683a167247c6b",
      "value": 1
     }
    },
    "f53b83dc83314f22aadfc6ff26a81ac4": {
     "model_module": "@jupyter-widgets/base",
     "model_module_version": "1.2.0",
     "model_name": "LayoutModel",
     "state": {
      "_model_module": "@jupyter-widgets/base",
      "_model_module_version": "1.2.0",
      "_model_name": "LayoutModel",
      "_view_count": null,
      "_view_module": "@jupyter-widgets/base",
      "_view_module_version": "1.2.0",
      "_view_name": "LayoutView",
      "align_content": null,
      "align_items": null,
      "align_self": null,
      "border": null,
      "bottom": null,
      "display": null,
      "flex": null,
      "flex_flow": null,
      "grid_area": null,
      "grid_auto_columns": null,
      "grid_auto_flow": null,
      "grid_auto_rows": null,
      "grid_column": null,
      "grid_gap": null,
      "grid_row": null,
      "grid_template_areas": null,
      "grid_template_columns": null,
      "grid_template_rows": null,
      "height": null,
      "justify_content": null,
      "justify_items": null,
      "left": null,
      "margin": null,
      "max_height": null,
      "max_width": null,
      "min_height": null,
      "min_width": null,
      "object_fit": null,
      "object_position": null,
      "order": null,
      "overflow": null,
      "overflow_x": null,
      "overflow_y": null,
      "padding": null,
      "right": null,
      "top": null,
      "visibility": null,
      "width": null
     }
    },
    "fdcd37fd6e3d4476a789af8828ea0f31": {
     "model_module": "@jupyter-widgets/controls",
     "model_module_version": "1.5.0",
     "model_name": "LabelModel",
     "state": {
      "_dom_classes": [],
      "_model_module": "@jupyter-widgets/controls",
      "_model_module_version": "1.5.0",
      "_model_name": "LabelModel",
      "_view_count": null,
      "_view_module": "@jupyter-widgets/controls",
      "_view_module_version": "1.5.0",
      "_view_name": "LabelView",
      "description": "",
      "description_tooltip": null,
      "layout": "IPY_MODEL_f53b83dc83314f22aadfc6ff26a81ac4",
      "placeholder": "​",
      "style": "IPY_MODEL_1868b187795b4f8bad6ef27ef6b07b51",
      "value": "0.484 MB of 0.484 MB uploaded (0.000 MB deduped)\r"
     }
    }
   }
  }
 },
 "nbformat": 4,
 "nbformat_minor": 4
}
