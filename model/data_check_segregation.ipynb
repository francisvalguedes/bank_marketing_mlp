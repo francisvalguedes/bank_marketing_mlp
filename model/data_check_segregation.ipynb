{
 "cells": [
  {
   "cell_type": "markdown",
   "metadata": {
    "id": "Dh34gim6KPtT"
   },
   "source": [
    "# Bank Marketing Data - A Multilayer Perceptron (MLP) Approach"
   ]
  },
  {
   "cell_type": "markdown",
   "metadata": {
    "id": "iE8OJoDZ5AFK"
   },
   "source": [
    "The datasets accessed were from **bank-full.csv** ordered by date (from May 2008 to November 2010) with all examples and 17 entries, sorted by date (older version of this dataset with fewer entries).\n",
    "\n",
    "The input variables are related the data of **bank customers**, related with the **last contact** of the current campaign and attributes related to **campaign previus**.\n",
    "\n",
    "The classification goal is to predict if the client will **subscribe** (yes/no) a **term deposit** (variable y).\n",
    "\n",
    "You can download the data from the [University of California, Irvine's website](http://archive.ics.uci.edu/ml/datasets/Adult).\n",
    "\n",
    "Let's take the following steps:\n",
    "\n",
    "1. Data Checks\n",
    "2. Data Segregation\n",
    "\n",
    "<center><img width=\"600\" src=\"https://drive.google.com/uc?export=view&id=1a-nyAPNPiVh-Xb2Pu2t2p-BhSvHJS0pO\"></center>"
   ]
  },
  {
   "cell_type": "markdown",
   "metadata": {
    "id": "3qVdYrQ1HzPU"
   },
   "source": [
    "### Install, load libraries and setup"
   ]
  },
  {
   "cell_type": "code",
   "execution_count": 1,
   "metadata": {
    "colab": {
     "base_uri": "https://localhost:8080/"
    },
    "executionInfo": {
     "elapsed": 20830,
     "status": "ok",
     "timestamp": 1657724806438,
     "user": {
      "displayName": "Francisval Guedes",
      "userId": "04914963643323114232"
     },
     "user_tz": 180
    },
    "id": "udEFWW-lFXtJ",
    "outputId": "f43603a9-2562-4ade-e710-bb54cb594869"
   },
   "outputs": [
    {
     "name": "stdout",
     "output_type": "stream",
     "text": [
      "Looking in indexes: https://pypi.org/simple, https://us-python.pkg.dev/colab-wheels/public/simple/\n",
      "Collecting wandb\n",
      "  Downloading wandb-0.12.21-py2.py3-none-any.whl (1.8 MB)\n",
      "\u001b[K     |████████████████████████████████| 1.8 MB 5.2 MB/s \n",
      "\u001b[?25hCollecting GitPython>=1.0.0\n",
      "  Downloading GitPython-3.1.27-py3-none-any.whl (181 kB)\n",
      "\u001b[K     |████████████████████████████████| 181 kB 47.2 MB/s \n",
      "\u001b[?25hRequirement already satisfied: promise<3,>=2.0 in /usr/local/lib/python3.7/dist-packages (from wandb) (2.3)\n",
      "Requirement already satisfied: Click!=8.0.0,>=7.0 in /usr/local/lib/python3.7/dist-packages (from wandb) (7.1.2)\n",
      "Collecting shortuuid>=0.5.0\n",
      "  Downloading shortuuid-1.0.9-py3-none-any.whl (9.4 kB)\n",
      "Collecting sentry-sdk>=1.0.0\n",
      "  Downloading sentry_sdk-1.7.1-py2.py3-none-any.whl (146 kB)\n",
      "\u001b[K     |████████████████████████████████| 146 kB 28.5 MB/s \n",
      "\u001b[?25hRequirement already satisfied: PyYAML in /usr/local/lib/python3.7/dist-packages (from wandb) (3.13)\n",
      "Collecting setproctitle\n",
      "  Downloading setproctitle-1.2.3-cp37-cp37m-manylinux_2_5_x86_64.manylinux1_x86_64.manylinux_2_17_x86_64.manylinux2014_x86_64.whl (29 kB)\n",
      "Requirement already satisfied: setuptools in /usr/local/lib/python3.7/dist-packages (from wandb) (57.4.0)\n",
      "Collecting docker-pycreds>=0.4.0\n",
      "  Downloading docker_pycreds-0.4.0-py2.py3-none-any.whl (9.0 kB)\n",
      "Requirement already satisfied: requests<3,>=2.0.0 in /usr/local/lib/python3.7/dist-packages (from wandb) (2.23.0)\n",
      "Requirement already satisfied: protobuf<4.0dev,>=3.12.0 in /usr/local/lib/python3.7/dist-packages (from wandb) (3.17.3)\n",
      "Collecting pathtools\n",
      "  Downloading pathtools-0.1.2.tar.gz (11 kB)\n",
      "Requirement already satisfied: six>=1.13.0 in /usr/local/lib/python3.7/dist-packages (from wandb) (1.15.0)\n",
      "Requirement already satisfied: psutil>=5.0.0 in /usr/local/lib/python3.7/dist-packages (from wandb) (5.4.8)\n",
      "Collecting gitdb<5,>=4.0.1\n",
      "  Downloading gitdb-4.0.9-py3-none-any.whl (63 kB)\n",
      "\u001b[K     |████████████████████████████████| 63 kB 875 kB/s \n",
      "\u001b[?25hRequirement already satisfied: typing-extensions>=3.7.4.3 in /usr/local/lib/python3.7/dist-packages (from GitPython>=1.0.0->wandb) (4.1.1)\n",
      "Collecting smmap<6,>=3.0.1\n",
      "  Downloading smmap-5.0.0-py3-none-any.whl (24 kB)\n",
      "Requirement already satisfied: chardet<4,>=3.0.2 in /usr/local/lib/python3.7/dist-packages (from requests<3,>=2.0.0->wandb) (3.0.4)\n",
      "Requirement already satisfied: certifi>=2017.4.17 in /usr/local/lib/python3.7/dist-packages (from requests<3,>=2.0.0->wandb) (2022.6.15)\n",
      "Requirement already satisfied: urllib3!=1.25.0,!=1.25.1,<1.26,>=1.21.1 in /usr/local/lib/python3.7/dist-packages (from requests<3,>=2.0.0->wandb) (1.24.3)\n",
      "Requirement already satisfied: idna<3,>=2.5 in /usr/local/lib/python3.7/dist-packages (from requests<3,>=2.0.0->wandb) (2.10)\n",
      "Building wheels for collected packages: pathtools\n",
      "  Building wheel for pathtools (setup.py) ... \u001b[?25l\u001b[?25hdone\n",
      "  Created wheel for pathtools: filename=pathtools-0.1.2-py3-none-any.whl size=8806 sha256=874c4df927ba7abe58c01ea2b9e81c8eb4ee6396fa93547468d7fe8ea435ce17\n",
      "  Stored in directory: /root/.cache/pip/wheels/3e/31/09/fa59cef12cdcfecc627b3d24273699f390e71828921b2cbba2\n",
      "Successfully built pathtools\n",
      "Installing collected packages: smmap, gitdb, shortuuid, setproctitle, sentry-sdk, pathtools, GitPython, docker-pycreds, wandb\n",
      "Successfully installed GitPython-3.1.27 docker-pycreds-0.4.0 gitdb-4.0.9 pathtools-0.1.2 sentry-sdk-1.7.1 setproctitle-1.2.3 shortuuid-1.0.9 smmap-5.0.0 wandb-0.12.21\n"
     ]
    }
   ],
   "source": [
    "!pip install wandb"
   ]
  },
  {
   "cell_type": "code",
   "execution_count": 2,
   "metadata": {
    "colab": {
     "base_uri": "https://localhost:8080/"
    },
    "executionInfo": {
     "elapsed": 4756,
     "status": "ok",
     "timestamp": 1657724811191,
     "user": {
      "displayName": "Francisval Guedes",
      "userId": "04914963643323114232"
     },
     "user_tz": 180
    },
    "id": "bflFVpizFXtJ",
    "outputId": "3e52f9cf-7bd5-4b80-c61b-d74c37625600"
   },
   "outputs": [
    {
     "name": "stdout",
     "output_type": "stream",
     "text": [
      "Looking in indexes: https://pypi.org/simple, https://us-python.pkg.dev/colab-wheels/public/simple/\n",
      "Requirement already satisfied: pytest in /usr/local/lib/python3.7/dist-packages (3.6.4)\n",
      "Collecting pytest-sugar\n",
      "  Downloading pytest_sugar-0.9.5-py2.py3-none-any.whl (9.0 kB)\n",
      "Requirement already satisfied: py>=1.5.0 in /usr/local/lib/python3.7/dist-packages (from pytest) (1.11.0)\n",
      "Requirement already satisfied: atomicwrites>=1.0 in /usr/local/lib/python3.7/dist-packages (from pytest) (1.4.1)\n",
      "Requirement already satisfied: setuptools in /usr/local/lib/python3.7/dist-packages (from pytest) (57.4.0)\n",
      "Requirement already satisfied: six>=1.10.0 in /usr/local/lib/python3.7/dist-packages (from pytest) (1.15.0)\n",
      "Requirement already satisfied: pluggy<0.8,>=0.5 in /usr/local/lib/python3.7/dist-packages (from pytest) (0.7.1)\n",
      "Requirement already satisfied: attrs>=17.4.0 in /usr/local/lib/python3.7/dist-packages (from pytest) (21.4.0)\n",
      "Requirement already satisfied: more-itertools>=4.0.0 in /usr/local/lib/python3.7/dist-packages (from pytest) (8.13.0)\n",
      "Requirement already satisfied: termcolor>=1.1.0 in /usr/local/lib/python3.7/dist-packages (from pytest-sugar) (1.1.0)\n",
      "Requirement already satisfied: packaging>=14.1 in /usr/local/lib/python3.7/dist-packages (from pytest-sugar) (21.3)\n",
      "Requirement already satisfied: pyparsing!=3.0.5,>=2.0.2 in /usr/local/lib/python3.7/dist-packages (from packaging>=14.1->pytest-sugar) (3.0.9)\n",
      "Installing collected packages: pytest-sugar\n",
      "Successfully installed pytest-sugar-0.9.5\n"
     ]
    }
   ],
   "source": [
    "!pip install pytest pytest-sugar"
   ]
  },
  {
   "cell_type": "code",
   "execution_count": 3,
   "metadata": {
    "executionInfo": {
     "elapsed": 1776,
     "status": "ok",
     "timestamp": 1657724812965,
     "user": {
      "displayName": "Francisval Guedes",
      "userId": "04914963643323114232"
     },
     "user_tz": 180
    },
    "id": "yfK7j2VKFXtJ"
   },
   "outputs": [],
   "source": [
    "import wandb\n",
    "\n",
    "import logging\n",
    "import tempfile\n",
    "import pandas as pd\n",
    "import os\n",
    "from sklearn.model_selection import train_test_split"
   ]
  },
  {
   "cell_type": "code",
   "execution_count": 4,
   "metadata": {
    "colab": {
     "base_uri": "https://localhost:8080/"
    },
    "executionInfo": {
     "elapsed": 184986,
     "status": "ok",
     "timestamp": 1657724998290,
     "user": {
      "displayName": "Francisval Guedes",
      "userId": "04914963643323114232"
     },
     "user_tz": 180
    },
    "id": "O631M6XKFXtJ",
    "outputId": "e2a4f924-e1d6-47a2-95b1-8e9554e92c21"
   },
   "outputs": [
    {
     "name": "stdout",
     "output_type": "stream",
     "text": [
      "\u001b[34m\u001b[1mwandb\u001b[0m: Logging into wandb.ai. (Learn how to deploy a W&B server locally: https://wandb.me/wandb-server)\n",
      "\u001b[34m\u001b[1mwandb\u001b[0m: You can find your API key in your browser here: https://wandb.ai/authorize\n",
      "\u001b[34m\u001b[1mwandb\u001b[0m: Paste an API key from your profile and hit enter, or press ctrl+c to quit: \n",
      "\u001b[34m\u001b[1mwandb\u001b[0m: Appending key for api.wandb.ai to your netrc file: /root/.netrc\n"
     ]
    }
   ],
   "source": [
    "# Login to Weights & Biases\n",
    "!wandb login --relogin"
   ]
  },
  {
   "cell_type": "markdown",
   "metadata": {
    "id": "6dJZh8xfLqC_"
   },
   "source": [
    "# 1.0 Data Check"
   ]
  },
  {
   "cell_type": "markdown",
   "metadata": {
    "id": "MPjpyeU7d37l"
   },
   "source": [
    "## 1.2 Pytest\n"
   ]
  },
  {
   "cell_type": "markdown",
   "metadata": {
    "id": "WB1QY4sbPs4-"
   },
   "source": [
    "### 1.2.1 How pytest discovers tests\n"
   ]
  },
  {
   "cell_type": "markdown",
   "metadata": {
    "id": "gXlqh21wiW6P"
   },
   "source": [
    "\n",
    "pytests uses the following [conventions](https://docs.pytest.org/en/latest/goodpractices.html#conventions-for-python-test-discovery) to automatically discovering tests:\n",
    "  1. files with tests should be called `test_*.py` or `*_test.py `\n",
    "  2. test function name should start with `test_`\n",
    "\n",
    "\n"
   ]
  },
  {
   "cell_type": "markdown",
   "metadata": {
    "id": "JtTD3oxoiYF6"
   },
   "source": [
    "### 1.2.2 Fixture"
   ]
  },
  {
   "cell_type": "markdown",
   "metadata": {
    "id": "mwNz2mgMevJJ"
   },
   "source": [
    "\n",
    "An important aspect when using ``pytest`` is understanding the fixture's scope works. \n",
    "\n",
    "The scope of the fixture can have a few legal values, described [here](https://docs.pytest.org/en/6.2.x/fixture.html#fixture-scopes). We are going to consider only **session** and **function**: with the former, the fixture is executed only once in a pytest session and the value it returns is used for all the tests that need it; with the latter, every test function gets a fresh copy of the data. This is useful if the tests modify the input in a way that make the other tests fail, for example."
   ]
  },
  {
   "cell_type": "markdown",
   "metadata": {
    "id": "uJjWla1qxd3i"
   },
   "source": [
    "### 1.2.3 Create and run a test file\n"
   ]
  },
  {
   "cell_type": "code",
   "execution_count": 9,
   "metadata": {
    "colab": {
     "base_uri": "https://localhost:8080/"
    },
    "executionInfo": {
     "elapsed": 11,
     "status": "ok",
     "timestamp": 1657725133363,
     "user": {
      "displayName": "Francisval Guedes",
      "userId": "04914963643323114232"
     },
     "user_tz": 180
    },
    "id": "9acpZigRVANF",
    "outputId": "e1a7394f-2e2f-46e7-81cf-92aaab0d5bb1"
   },
   "outputs": [
    {
     "name": "stdout",
     "output_type": "stream",
     "text": [
      "Writing test_data.py\n"
     ]
    }
   ],
   "source": [
    "%%file test_data.py\n",
    "import pytest\n",
    "import wandb\n",
    "import pandas as pd\n",
    "\n",
    "# This is global so all tests are collected under the same run\n",
    "run = wandb.init(project=\"bank_mlp\", entity=\"mlops_ivan\", job_type=\"data_checks\")\n",
    "\n",
    "@pytest.fixture(scope=\"session\")\n",
    "def data():\n",
    "\n",
    "    local_path = run.use_artifact(\"mlops_ivan/bank_mlp/preprocessed_data.csv:latest\").file()\n",
    "    df = pd.read_csv(local_path)\n",
    "\n",
    "    return df\n",
    "\n",
    "def test_data_length(data):\n",
    "    \"\"\"\n",
    "    We test that we have enough data to continue\n",
    "    \"\"\"\n",
    "    assert len(data) > 1000\n",
    "\n",
    "\n",
    "def test_number_of_columns(data):\n",
    "    \"\"\"\n",
    "    We test that we have enough data to continue\n",
    "    \"\"\"\n",
    "    assert data.shape[1] == 17\n",
    "\n",
    "def test_column_presence_and_type(data):\n",
    "\n",
    "    required_columns = {\n",
    "        \"age\": pd.api.types.is_int64_dtype,\n",
    "        \"job\": pd.api.types.is_object_dtype,\n",
    "        \"marital\": pd.api.types.is_object_dtype,\n",
    "        \"education\": pd.api.types.is_object_dtype,\n",
    "        \"default\": pd.api.types.is_object_dtype,\n",
    "        \"balance\": pd.api.types.is_int64_dtype,\n",
    "        \"housing\": pd.api.types.is_object_dtype,\n",
    "        \"loan\": pd.api.types.is_object_dtype,\n",
    "        \"contact\": pd.api.types.is_object_dtype,\n",
    "        \"day\": pd.api.types.is_int64_dtype,\n",
    "        \"month\": pd.api.types.is_object_dtype,\n",
    "        \"duration\": pd.api.types.is_int64_dtype,  \n",
    "        \"campaign\": pd.api.types.is_int64_dtype,\n",
    "        \"pdays\": pd.api.types.is_int64_dtype,\n",
    "        \"previous\": pd.api.types.is_int64_dtype,\n",
    "        \"poutcome\": pd.api.types.is_object_dtype,\n",
    "        \"y\": pd.api.types.is_object_dtype\n",
    "    }\n",
    "\n",
    "    # Check column presence\n",
    "    assert set(data.columns.values).issuperset(set(required_columns.keys()))\n",
    "\n",
    "    for col_name, format_verification_funct in required_columns.items():\n",
    "\n",
    "        assert format_verification_funct(data[col_name]), f\"Column {col_name} failed test {format_verification_funct}\"\n",
    "\n",
    "\n",
    "def test_class_names(data):\n",
    "\n",
    "    # Check that only the known classes are present\n",
    "    known_classes = [\n",
    "        \"no\",\n",
    "        \"yes\"\n",
    "    ]\n",
    "\n",
    "    assert data[\"y\"].isin(known_classes).all()\n",
    "\n",
    "\n",
    "def test_column_ranges(data):\n",
    "\n",
    "    ranges = {                          # ver critérios para seleção dos intervalos\n",
    "        \"age\": (18, 99),\n",
    "        \"balance\": (-20000,200000),\n",
    "        \"day\": (1, 31),\n",
    "        \"duration\": (0, 9999),\n",
    "        \"campaign\": (0, 999),\n",
    "        \"pdays\": (-1, 999),\n",
    "        \"previous\": (0, 999)\n",
    "    }\n",
    "\n",
    "    for col_name, (minimum, maximum) in ranges.items():\n",
    "\n",
    "        assert data[col_name].dropna().between(minimum, maximum).all(), (\n",
    "            f\"Column {col_name} failed the test. Should be between {minimum} and {maximum}, \"\n",
    "            f\"instead min={data[col_name].min()} and max={data[col_name].max()}\"\n",
    "        )"
   ]
  },
  {
   "cell_type": "markdown",
   "metadata": {
    "id": "XTBnZ3-vVe0p"
   },
   "source": [
    "Now lets run pytest"
   ]
  },
  {
   "cell_type": "code",
   "execution_count": 10,
   "metadata": {
    "colab": {
     "base_uri": "https://localhost:8080/"
    },
    "executionInfo": {
     "elapsed": 11092,
     "status": "ok",
     "timestamp": 1657725144446,
     "user": {
      "displayName": "Francisval Guedes",
      "userId": "04914963643323114232"
     },
     "user_tz": 180
    },
    "id": "DXBQkMc8VeD8",
    "outputId": "832c2aa2-0b33-4687-85d0-3f1a5e509dbc"
   },
   "outputs": [
    {
     "name": "stdout",
     "output_type": "stream",
     "text": [
      "\u001b[1mTest session starts (platform: linux, Python 3.7.13, pytest 3.6.4, pytest-sugar 0.9.5)\u001b[0m\n",
      "cachedir: .pytest_cache\n",
      "rootdir: /content, inifile:\n",
      "plugins: typeguard-2.7.1, sugar-0.9.5\n",
      "\n",
      " \u001b[36mtest_data.py\u001b[0m::test_data_length\u001b[0m \u001b[32m✓\u001b[0m                                 \u001b[32m20% \u001b[0m\u001b[40m\u001b[32m█\u001b[0m\u001b[40m\u001b[32m█        \u001b[0m\n",
      " \u001b[36mtest_data.py\u001b[0m::test_number_of_columns\u001b[0m \u001b[32m✓\u001b[0m                           \u001b[32m40% \u001b[0m\u001b[40m\u001b[32m█\u001b[0m\u001b[40m\u001b[32m█\u001b[0m\u001b[40m\u001b[32m█\u001b[0m\u001b[40m\u001b[32m█      \u001b[0m\n",
      " \u001b[36mtest_data.py\u001b[0m::test_column_presence_and_type\u001b[0m \u001b[32m✓\u001b[0m                    \u001b[32m60% \u001b[0m\u001b[40m\u001b[32m█\u001b[0m\u001b[40m\u001b[32m█\u001b[0m\u001b[40m\u001b[32m█\u001b[0m\u001b[40m\u001b[32m█\u001b[0m\u001b[40m\u001b[32m█\u001b[0m\u001b[40m\u001b[32m█    \u001b[0m\n",
      " \u001b[36mtest_data.py\u001b[0m::test_class_names\u001b[0m \u001b[32m✓\u001b[0m                                 \u001b[32m80% \u001b[0m\u001b[40m\u001b[32m█\u001b[0m\u001b[40m\u001b[32m█\u001b[0m\u001b[40m\u001b[32m█\u001b[0m\u001b[40m\u001b[32m█\u001b[0m\u001b[40m\u001b[32m█\u001b[0m\u001b[40m\u001b[32m█\u001b[0m\u001b[40m\u001b[32m█\u001b[0m\u001b[40m\u001b[32m█  \u001b[0m\n",
      " \u001b[36mtest_data.py\u001b[0m::test_column_ranges\u001b[0m \u001b[32m✓\u001b[0m                              \u001b[32m100% \u001b[0m\u001b[40m\u001b[32m█\u001b[0m\u001b[40m\u001b[32m█\u001b[0m\u001b[40m\u001b[32m█\u001b[0m\u001b[40m\u001b[32m█\u001b[0m\u001b[40m\u001b[32m█\u001b[0m\u001b[40m\u001b[32m█\u001b[0m\u001b[40m\u001b[32m█\u001b[0m\u001b[40m\u001b[32m█\u001b[0m\u001b[40m\u001b[32m█\u001b[0m\u001b[40m\u001b[32m█\u001b[0m\n",
      "\n",
      "Results (4.18s):\n",
      "\u001b[32m       5 passed\u001b[0m\n"
     ]
    }
   ],
   "source": [
    "!pytest . -vv"
   ]
  },
  {
   "cell_type": "code",
   "execution_count": 10,
   "metadata": {
    "executionInfo": {
     "elapsed": 11,
     "status": "ok",
     "timestamp": 1657725144446,
     "user": {
      "displayName": "Francisval Guedes",
      "userId": "04914963643323114232"
     },
     "user_tz": 180
    },
    "id": "B3ke5hLgUihx"
   },
   "outputs": [],
   "source": []
  },
  {
   "cell_type": "markdown",
   "metadata": {
    "id": "mjlv3gMHUi_z"
   },
   "source": [
    "# 2.0 Data Segregation\n",
    "\n"
   ]
  },
  {
   "cell_type": "markdown",
   "metadata": {
    "id": "sa1PvzZYF4J2"
   },
   "source": [
    "## 2.1 Data Segregation"
   ]
  },
  {
   "cell_type": "code",
   "execution_count": 11,
   "metadata": {
    "executionInfo": {
     "elapsed": 11,
     "status": "ok",
     "timestamp": 1657725144447,
     "user": {
      "displayName": "Francisval Guedes",
      "userId": "04914963643323114232"
     },
     "user_tz": 180
    },
    "id": "6Box9NiNKCgM"
   },
   "outputs": [],
   "source": [
    "# global variables\n",
    "\n",
    "# ratio used to split train and test data\n",
    "test_size = 0.30\n",
    "\n",
    "# seed used to reproduce purposes\n",
    "seed = 41\n",
    "\n",
    "# reference (column) to stratify the data\n",
    "stratify = \"y\"\n",
    "\n",
    "# name of the input artifact\n",
    "artifact_input_name = \"mlops_ivan/bank_mlp/preprocessed_data.csv:latest\"\n",
    "\n",
    "# type of the artifact\n",
    "artifact_type = \"segregated_data\""
   ]
  },
  {
   "cell_type": "code",
   "execution_count": 12,
   "metadata": {
    "colab": {
     "base_uri": "https://localhost:8080/",
     "height": 0
    },
    "executionInfo": {
     "elapsed": 11332,
     "status": "ok",
     "timestamp": 1657725155768,
     "user": {
      "displayName": "Francisval Guedes",
      "userId": "04914963643323114232"
     },
     "user_tz": 180
    },
    "id": "4tha7oPLF58G",
    "outputId": "fa9baafa-5127-4b14-869d-1405b1bf8deb"
   },
   "outputs": [
    {
     "name": "stderr",
     "output_type": "stream",
     "text": [
      "\u001b[34m\u001b[1mwandb\u001b[0m: Currently logged in as: \u001b[33mfrancisvalfgs\u001b[0m (\u001b[33mmlops_ivan\u001b[0m). Use \u001b[1m`wandb login --relogin`\u001b[0m to force relogin\n"
     ]
    },
    {
     "data": {
      "text/html": [
       "Tracking run with wandb version 0.12.21"
      ],
      "text/plain": [
       "<IPython.core.display.HTML object>"
      ]
     },
     "metadata": {},
     "output_type": "display_data"
    },
    {
     "data": {
      "text/html": [
       "Run data is saved locally in <code>/content/wandb/run-20220713_151227-hj5rk68o</code>"
      ],
      "text/plain": [
       "<IPython.core.display.HTML object>"
      ]
     },
     "metadata": {},
     "output_type": "display_data"
    },
    {
     "data": {
      "text/html": [
       "Syncing run <strong><a href=\"https://wandb.ai/mlops_ivan/bank_mlp/runs/hj5rk68o\" target=\"_blank\">still-totem-6</a></strong> to <a href=\"https://wandb.ai/mlops_ivan/bank_mlp\" target=\"_blank\">Weights & Biases</a> (<a href=\"https://wandb.me/run\" target=\"_blank\">docs</a>)<br/>"
      ],
      "text/plain": [
       "<IPython.core.display.HTML object>"
      ]
     },
     "metadata": {},
     "output_type": "display_data"
    },
    {
     "name": "stderr",
     "output_type": "stream",
     "text": [
      "13-07-2022 15:12:30 Downloading and reading artifact\n",
      "13-07-2022 15:12:31 Splitting data into train and test\n",
      "13-07-2022 15:12:31 Uploading the train dataset to train.csv\n",
      "13-07-2022 15:12:32 Logging artifact\n",
      "13-07-2022 15:12:34 Uploading the test dataset to test.csv\n",
      "13-07-2022 15:12:34 Logging artifact\n"
     ]
    }
   ],
   "source": [
    "# configure logging\n",
    "logging.basicConfig(level=logging.INFO,\n",
    "                    format=\"%(asctime)s %(message)s\",\n",
    "                    datefmt='%d-%m-%Y %H:%M:%S')\n",
    "\n",
    "# reference for a logging obj\n",
    "logger = logging.getLogger()\n",
    "\n",
    "# initiate wandb project\n",
    "run = wandb.init(project=\"bank_mlp\", entity=\"mlops_ivan\", job_type=\"split_data\")\n",
    "\n",
    "logger.info(\"Downloading and reading artifact\")\n",
    "artifact = run.use_artifact(artifact_input_name)\n",
    "artifact_path = artifact.file()\n",
    "df = pd.read_csv(artifact_path)\n",
    "\n",
    "# Split firstly in train/test, then we further divide the dataset to train and validation\n",
    "logger.info(\"Splitting data into train and test\")\n",
    "splits = {}\n",
    "\n",
    "splits[\"train\"], splits[\"test\"] = train_test_split(df,\n",
    "                                                   test_size=test_size,\n",
    "                                                   random_state=seed,\n",
    "                                                   stratify=df[stratify])\n",
    "\n",
    "# Save the artifacts. We use a temporary directory so we do not leave any trace behind\n",
    "with tempfile.TemporaryDirectory() as tmp_dir:\n",
    "\n",
    "    for split, df in splits.items():\n",
    "\n",
    "        # Make the artifact name from the name of the split plus the provided root\n",
    "        artifact_name = f\"{split}.csv\"\n",
    "\n",
    "        # Get the path on disk within the temp directory\n",
    "        temp_path = os.path.join(tmp_dir, artifact_name)\n",
    "\n",
    "        logger.info(f\"Uploading the {split} dataset to {artifact_name}\")\n",
    "\n",
    "        # Save then upload to W&B\n",
    "        df.to_csv(temp_path,index=False)\n",
    "\n",
    "        artifact = wandb.Artifact(name=artifact_name,\n",
    "                                  type=artifact_type,\n",
    "                                  description=f\"{split} split of dataset {artifact_input_name}\",\n",
    "        )\n",
    "        artifact.add_file(temp_path)\n",
    "\n",
    "        logger.info(\"Logging artifact\")\n",
    "        run.log_artifact(artifact)\n",
    "\n",
    "        # This waits for the artifact to be uploaded to W&B. If you\n",
    "        # do not add this, the temp directory might be removed before\n",
    "        # W&B had a chance to upload the datasets, and the upload\n",
    "        # might fail\n",
    "        artifact.wait()"
   ]
  },
  {
   "cell_type": "code",
   "execution_count": 13,
   "metadata": {
    "colab": {
     "base_uri": "https://localhost:8080/",
     "height": 0,
     "referenced_widgets": [
      "083ccdb42ddf4ab18ea6eed891dfe070",
      "de9dc2cc29bb4211a89d15dfa44807de",
      "c66b060d6dc1455a854c714fc0ccdd62",
      "e91d979786f04160bbd5f397c87ccbc1",
      "b9dbf9ce6eae4225b709105e3f70a123",
      "ac5cdf51290744448660094b23d8d26b",
      "b0ff134815e64d6fbb8c7bd3eda03a73",
      "fd34a3bb01d0457c94b143104f8d601f"
     ]
    },
    "executionInfo": {
     "elapsed": 2501,
     "status": "ok",
     "timestamp": 1657725158267,
     "user": {
      "displayName": "Francisval Guedes",
      "userId": "04914963643323114232"
     },
     "user_tz": 180
    },
    "id": "s1IcDCzUO57y",
    "outputId": "22cb45f1-4544-4be8-f6de-426868c9f15e"
   },
   "outputs": [
    {
     "data": {
      "text/html": [
       "Waiting for W&B process to finish... <strong style=\"color:green\">(success).</strong>"
      ],
      "text/plain": [
       "<IPython.core.display.HTML object>"
      ]
     },
     "metadata": {},
     "output_type": "display_data"
    },
    {
     "data": {
      "application/vnd.jupyter.widget-view+json": {
       "model_id": "083ccdb42ddf4ab18ea6eed891dfe070",
       "version_major": 2,
       "version_minor": 0
      },
      "text/plain": [
       "VBox(children=(Label(value='3.535 MB of 3.535 MB uploaded (0.000 MB deduped)\\r'), FloatProgress(value=1.0, max…"
      ]
     },
     "metadata": {},
     "output_type": "display_data"
    },
    {
     "data": {
      "text/html": [
       "Synced <strong style=\"color:#cdcd00\">still-totem-6</strong>: <a href=\"https://wandb.ai/mlops_ivan/bank_mlp/runs/hj5rk68o\" target=\"_blank\">https://wandb.ai/mlops_ivan/bank_mlp/runs/hj5rk68o</a><br/>Synced 5 W&B file(s), 0 media file(s), 2 artifact file(s) and 0 other file(s)"
      ],
      "text/plain": [
       "<IPython.core.display.HTML object>"
      ]
     },
     "metadata": {},
     "output_type": "display_data"
    },
    {
     "data": {
      "text/html": [
       "Find logs at: <code>./wandb/run-20220713_151227-hj5rk68o/logs</code>"
      ],
      "text/plain": [
       "<IPython.core.display.HTML object>"
      ]
     },
     "metadata": {},
     "output_type": "display_data"
    }
   ],
   "source": [
    "# close the run\n",
    "# waiting a while after run the previous cell before execute this\n",
    "run.finish()"
   ]
  }
 ],
 "metadata": {
  "colab": {
   "collapsed_sections": [],
   "name": "data_check_segregation.ipynb",
   "provenance": [],
   "toc_visible": true
  },
  "kernelspec": {
   "display_name": "Python 3 (ipykernel)",
   "language": "python",
   "name": "python3"
  },
  "language_info": {
   "codemirror_mode": {
    "name": "ipython",
    "version": 3
   },
   "file_extension": ".py",
   "mimetype": "text/x-python",
   "name": "python",
   "nbconvert_exporter": "python",
   "pygments_lexer": "ipython3",
   "version": "3.8.13"
  },
  "widgets": {
   "application/vnd.jupyter.widget-state+json": {
    "083ccdb42ddf4ab18ea6eed891dfe070": {
     "model_module": "@jupyter-widgets/controls",
     "model_module_version": "1.5.0",
     "model_name": "VBoxModel",
     "state": {
      "_dom_classes": [],
      "_model_module": "@jupyter-widgets/controls",
      "_model_module_version": "1.5.0",
      "_model_name": "VBoxModel",
      "_view_count": null,
      "_view_module": "@jupyter-widgets/controls",
      "_view_module_version": "1.5.0",
      "_view_name": "VBoxView",
      "box_style": "",
      "children": [
       "IPY_MODEL_de9dc2cc29bb4211a89d15dfa44807de",
       "IPY_MODEL_c66b060d6dc1455a854c714fc0ccdd62"
      ],
      "layout": "IPY_MODEL_e91d979786f04160bbd5f397c87ccbc1"
     }
    },
    "ac5cdf51290744448660094b23d8d26b": {
     "model_module": "@jupyter-widgets/controls",
     "model_module_version": "1.5.0",
     "model_name": "DescriptionStyleModel",
     "state": {
      "_model_module": "@jupyter-widgets/controls",
      "_model_module_version": "1.5.0",
      "_model_name": "DescriptionStyleModel",
      "_view_count": null,
      "_view_module": "@jupyter-widgets/base",
      "_view_module_version": "1.2.0",
      "_view_name": "StyleView",
      "description_width": ""
     }
    },
    "b0ff134815e64d6fbb8c7bd3eda03a73": {
     "model_module": "@jupyter-widgets/base",
     "model_module_version": "1.2.0",
     "model_name": "LayoutModel",
     "state": {
      "_model_module": "@jupyter-widgets/base",
      "_model_module_version": "1.2.0",
      "_model_name": "LayoutModel",
      "_view_count": null,
      "_view_module": "@jupyter-widgets/base",
      "_view_module_version": "1.2.0",
      "_view_name": "LayoutView",
      "align_content": null,
      "align_items": null,
      "align_self": null,
      "border": null,
      "bottom": null,
      "display": null,
      "flex": null,
      "flex_flow": null,
      "grid_area": null,
      "grid_auto_columns": null,
      "grid_auto_flow": null,
      "grid_auto_rows": null,
      "grid_column": null,
      "grid_gap": null,
      "grid_row": null,
      "grid_template_areas": null,
      "grid_template_columns": null,
      "grid_template_rows": null,
      "height": null,
      "justify_content": null,
      "justify_items": null,
      "left": null,
      "margin": null,
      "max_height": null,
      "max_width": null,
      "min_height": null,
      "min_width": null,
      "object_fit": null,
      "object_position": null,
      "order": null,
      "overflow": null,
      "overflow_x": null,
      "overflow_y": null,
      "padding": null,
      "right": null,
      "top": null,
      "visibility": null,
      "width": null
     }
    },
    "b9dbf9ce6eae4225b709105e3f70a123": {
     "model_module": "@jupyter-widgets/base",
     "model_module_version": "1.2.0",
     "model_name": "LayoutModel",
     "state": {
      "_model_module": "@jupyter-widgets/base",
      "_model_module_version": "1.2.0",
      "_model_name": "LayoutModel",
      "_view_count": null,
      "_view_module": "@jupyter-widgets/base",
      "_view_module_version": "1.2.0",
      "_view_name": "LayoutView",
      "align_content": null,
      "align_items": null,
      "align_self": null,
      "border": null,
      "bottom": null,
      "display": null,
      "flex": null,
      "flex_flow": null,
      "grid_area": null,
      "grid_auto_columns": null,
      "grid_auto_flow": null,
      "grid_auto_rows": null,
      "grid_column": null,
      "grid_gap": null,
      "grid_row": null,
      "grid_template_areas": null,
      "grid_template_columns": null,
      "grid_template_rows": null,
      "height": null,
      "justify_content": null,
      "justify_items": null,
      "left": null,
      "margin": null,
      "max_height": null,
      "max_width": null,
      "min_height": null,
      "min_width": null,
      "object_fit": null,
      "object_position": null,
      "order": null,
      "overflow": null,
      "overflow_x": null,
      "overflow_y": null,
      "padding": null,
      "right": null,
      "top": null,
      "visibility": null,
      "width": null
     }
    },
    "c66b060d6dc1455a854c714fc0ccdd62": {
     "model_module": "@jupyter-widgets/controls",
     "model_module_version": "1.5.0",
     "model_name": "FloatProgressModel",
     "state": {
      "_dom_classes": [],
      "_model_module": "@jupyter-widgets/controls",
      "_model_module_version": "1.5.0",
      "_model_name": "FloatProgressModel",
      "_view_count": null,
      "_view_module": "@jupyter-widgets/controls",
      "_view_module_version": "1.5.0",
      "_view_name": "ProgressView",
      "bar_style": "",
      "description": "",
      "description_tooltip": null,
      "layout": "IPY_MODEL_b0ff134815e64d6fbb8c7bd3eda03a73",
      "max": 1,
      "min": 0,
      "orientation": "horizontal",
      "style": "IPY_MODEL_fd34a3bb01d0457c94b143104f8d601f",
      "value": 1
     }
    },
    "de9dc2cc29bb4211a89d15dfa44807de": {
     "model_module": "@jupyter-widgets/controls",
     "model_module_version": "1.5.0",
     "model_name": "LabelModel",
     "state": {
      "_dom_classes": [],
      "_model_module": "@jupyter-widgets/controls",
      "_model_module_version": "1.5.0",
      "_model_name": "LabelModel",
      "_view_count": null,
      "_view_module": "@jupyter-widgets/controls",
      "_view_module_version": "1.5.0",
      "_view_name": "LabelView",
      "description": "",
      "description_tooltip": null,
      "layout": "IPY_MODEL_b9dbf9ce6eae4225b709105e3f70a123",
      "placeholder": "​",
      "style": "IPY_MODEL_ac5cdf51290744448660094b23d8d26b",
      "value": "3.543 MB of 3.543 MB uploaded (0.000 MB deduped)\r"
     }
    },
    "e91d979786f04160bbd5f397c87ccbc1": {
     "model_module": "@jupyter-widgets/base",
     "model_module_version": "1.2.0",
     "model_name": "LayoutModel",
     "state": {
      "_model_module": "@jupyter-widgets/base",
      "_model_module_version": "1.2.0",
      "_model_name": "LayoutModel",
      "_view_count": null,
      "_view_module": "@jupyter-widgets/base",
      "_view_module_version": "1.2.0",
      "_view_name": "LayoutView",
      "align_content": null,
      "align_items": null,
      "align_self": null,
      "border": null,
      "bottom": null,
      "display": null,
      "flex": null,
      "flex_flow": null,
      "grid_area": null,
      "grid_auto_columns": null,
      "grid_auto_flow": null,
      "grid_auto_rows": null,
      "grid_column": null,
      "grid_gap": null,
      "grid_row": null,
      "grid_template_areas": null,
      "grid_template_columns": null,
      "grid_template_rows": null,
      "height": null,
      "justify_content": null,
      "justify_items": null,
      "left": null,
      "margin": null,
      "max_height": null,
      "max_width": null,
      "min_height": null,
      "min_width": null,
      "object_fit": null,
      "object_position": null,
      "order": null,
      "overflow": null,
      "overflow_x": null,
      "overflow_y": null,
      "padding": null,
      "right": null,
      "top": null,
      "visibility": null,
      "width": null
     }
    },
    "fd34a3bb01d0457c94b143104f8d601f": {
     "model_module": "@jupyter-widgets/controls",
     "model_module_version": "1.5.0",
     "model_name": "ProgressStyleModel",
     "state": {
      "_model_module": "@jupyter-widgets/controls",
      "_model_module_version": "1.5.0",
      "_model_name": "ProgressStyleModel",
      "_view_count": null,
      "_view_module": "@jupyter-widgets/base",
      "_view_module_version": "1.2.0",
      "_view_name": "StyleView",
      "bar_color": null,
      "description_width": ""
     }
    }
   }
  }
 },
 "nbformat": 4,
 "nbformat_minor": 4
}
